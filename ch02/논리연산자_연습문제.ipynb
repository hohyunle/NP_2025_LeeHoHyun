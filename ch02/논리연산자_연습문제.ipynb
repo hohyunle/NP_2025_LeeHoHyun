{
 "cells": [
  {
   "cell_type": "markdown",
   "id": "7f98df44",
   "metadata": {},
   "source": [
    "1. 5가 3보다 크고 7보다 작은지 검사하는 프로그램을 작성하라."
   ]
  },
  {
   "cell_type": "code",
   "execution_count": 1,
   "id": "16ff737d",
   "metadata": {},
   "outputs": [
    {
     "name": "stdout",
     "output_type": "stream",
     "text": [
      "5가 3보다 크고 7보다 작습니다.\n"
     ]
    }
   ],
   "source": [
    "num1 = 5\n",
    "num2 = 3\n",
    "num3 = 7\n",
    "\n",
    "if num1 > num2 and num1 < num3:\n",
    "    print(\"5가 3보다 크고 7보다 작습니다.\")\n",
    "else:\n",
    "    print(\"5가 3보다 크고 7보다 작지 않습니다.\")"
   ]
  },
  {
   "cell_type": "markdown",
   "id": "62e38f37",
   "metadata": {},
   "source": [
    "2. 변수 x가 10 이상이고 20 이하인지 검사하는 프로그램을 작성하라."
   ]
  },
  {
   "cell_type": "code",
   "execution_count": 2,
   "id": "2f723743",
   "metadata": {},
   "outputs": [
    {
     "name": "stdout",
     "output_type": "stream",
     "text": [
      "x의 값이 10에서 20 사이의 값이 아닙니다.\n"
     ]
    }
   ],
   "source": [
    "x = int(input(\"정수를 입력하세요: \"))\n",
    "\n",
    "if x >= 10 and x <= 20:\n",
    "    print(\"x의 값이 10에서 20 사이의 값입니다.\")\n",
    "else:\n",
    "    print(\"x의 값이 10에서 20 사이의 값이 아닙니다.\")"
   ]
  },
  {
   "cell_type": "markdown",
   "id": "f1d23be1",
   "metadata": {},
   "source": [
    "3. 변수 y가 5의 배수이거나 7의 배수인지 검사하는 프로그램을 작성하라."
   ]
  },
  {
   "cell_type": "code",
   "execution_count": 3,
   "id": "7fce116b",
   "metadata": {},
   "outputs": [
    {
     "name": "stdout",
     "output_type": "stream",
     "text": [
      "y의 값이 5의 배수이거나 7의 배수입니다.\n"
     ]
    }
   ],
   "source": [
    "y = int(input(\"정수를 입력하세요: \"))\n",
    "\n",
    "if y % 5 == 0 or y % 7 == 0:\n",
    "    print(\"y의 값이 5의 배수이거나 7의 배수입니다.\")\n",
    "else:\n",
    "    print(\"y의 값이 5의 배수이거나 7의 배수가 아닙니다.\")"
   ]
  },
  {
   "cell_type": "markdown",
   "id": "2efe5310",
   "metadata": {},
   "source": [
    "4. 변수 z가 양수이면서 짝수인지 검사하는 프로그램을 작성하라."
   ]
  },
  {
   "cell_type": "code",
   "execution_count": 4,
   "id": "90a68eb9",
   "metadata": {},
   "outputs": [
    {
     "name": "stdout",
     "output_type": "stream",
     "text": [
      "z의 값이 양수이면서 짝수가 아닙니다.\n"
     ]
    }
   ],
   "source": [
    "z = int(input(\"정수를 입력하세요: \"))\n",
    "\n",
    "if z > 0 and z % 2 == 0:\n",
    "    print(\"z의 값이 양수이면서 짝수입니다.\")\n",
    "else:\n",
    "    print(\"z의 값이 양수이면서 짝수가 아닙니다.\")"
   ]
  },
  {
   "cell_type": "markdown",
   "id": "6ed92f54",
   "metadata": {},
   "source": [
    "5. 변수 a가 문자열 \"hello\"나 문자열 \"world\" 중 하나인지 검사하는 프로그램을 작성하라."
   ]
  },
  {
   "cell_type": "code",
   "execution_count": 5,
   "id": "d58bc754",
   "metadata": {},
   "outputs": [
    {
     "name": "stdout",
     "output_type": "stream",
     "text": [
      "입력한 문자열은 'hello' 또는 'world'입니다.\n"
     ]
    }
   ],
   "source": [
    "a = input(\"문자열을 입력하세요: \")\n",
    "\n",
    "if a == \"hello\" or a == \"world\":\n",
    "    print(\"입력한 문자열은 'hello' 또는 'world'입니다.\")\n",
    "else:\n",
    "    print(\"입력한 문자열은 'hello' 또는 'world'가 아닙니다.\")"
   ]
  }
 ],
 "metadata": {
  "kernelspec": {
   "display_name": "Python 3",
   "language": "python",
   "name": "python3"
  },
  "language_info": {
   "codemirror_mode": {
    "name": "ipython",
    "version": 3
   },
   "file_extension": ".py",
   "mimetype": "text/x-python",
   "name": "python",
   "nbconvert_exporter": "python",
   "pygments_lexer": "ipython3",
   "version": "3.13.7"
  }
 },
 "nbformat": 4,
 "nbformat_minor": 5
}
