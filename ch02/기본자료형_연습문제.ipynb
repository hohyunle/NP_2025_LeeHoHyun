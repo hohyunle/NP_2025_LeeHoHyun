{
 "cells": [
  {
   "cell_type": "markdown",
   "id": "eb17c510",
   "metadata": {},
   "source": [
    "# 📝 기본 입출력 연습문제\n",
    "\n",
    "## 1. 5와 3을 더한 값을 출력하는 프로그램을 작성하라."
   ]
  },
  {
   "cell_type": "code",
   "execution_count": 1,
   "id": "2f6f3d07",
   "metadata": {},
   "outputs": [
    {
     "name": "stdout",
     "output_type": "stream",
     "text": [
      "8\n"
     ]
    }
   ],
   "source": [
    "num1 = 5\n",
    "num2 = 3\n",
    "\n",
    "print(num1 + num2)"
   ]
  },
  {
   "cell_type": "markdown",
   "id": "850f135e",
   "metadata": {},
   "source": [
    "---\n",
    "## 2. 7에서 3을 뺀 값을 출력하는 프로그램을 작성하라."
   ]
  },
  {
   "cell_type": "code",
   "execution_count": null,
   "id": "c51f1878",
   "metadata": {},
   "outputs": [],
   "source": [
    "num1 = 7\n",
    "num2 = 3\n",
    "\n",
    "print(num1 - num2)"
   ]
  },
  {
   "cell_type": "markdown",
   "id": "503c4d05",
   "metadata": {},
   "source": [
    "---\n",
    "## 3. 4를 2로 나눈 값을 출력하는 프로그램을 작성하라."
   ]
  },
  {
   "cell_type": "code",
   "execution_count": null,
   "id": "b0ff5acb",
   "metadata": {},
   "outputs": [],
   "source": [
    "num1 = 4\n",
    "num2 = 2\n",
    "\n",
    "print(num1 / num2)"
   ]
  },
  {
   "cell_type": "markdown",
   "id": "bea9db26",
   "metadata": {},
   "source": [
    "---\n",
    "## 4. 8을 3으로 나눈 몫과 나머지를 출력하는 프로그램을 작성하라."
   ]
  },
  {
   "cell_type": "code",
   "execution_count": null,
   "id": "f83d8c20",
   "metadata": {},
   "outputs": [
    {
     "name": "stdout",
     "output_type": "stream",
     "text": [
      "몫 : 2, 나머지 : 2\n"
     ]
    }
   ],
   "source": [
    "num1 = 8\n",
    "num2 = 3\n",
    "\n",
    "print(f\"몫 : {num1 // num2}, 나머지 : {num1 % num2}\")"
   ]
  },
  {
   "cell_type": "markdown",
   "id": "db68de2e",
   "metadata": {},
   "source": [
    "---\n",
    "## 5. 2의 5제곱을 출력하는 프로그램을 작성하라."
   ]
  },
  {
   "cell_type": "code",
   "execution_count": null,
   "id": "eb4825e8",
   "metadata": {},
   "outputs": [],
   "source": [
    "num1 = 2\n",
    "num2 = 5\n",
    "\n",
    "print(num1 ** num2)"
   ]
  },
  {
   "cell_type": "markdown",
   "id": "953fa9ca",
   "metadata": {},
   "source": [
    "--- \n",
    "## 6. 입력된 정수가 10보다 크고 20보다 작은지 검사하는 프로그램을 작성하라."
   ]
  },
  {
   "cell_type": "code",
   "execution_count": 4,
   "id": "c176e4c5",
   "metadata": {},
   "outputs": [
    {
     "name": "stdout",
     "output_type": "stream",
     "text": [
      "10보다 크고 20보다 작지 않습니다.\n"
     ]
    }
   ],
   "source": [
    "num = int(input(\"정수를 입력하세요: \"))\n",
    "\n",
    "if num > 10 and num < 20:\n",
    "    print(\"10보다 크고 20보다 작습니다.\")\n",
    "else:\n",
    "    print(\"10보다 크고 20보다 작지 않습니다.\")"
   ]
  },
  {
   "cell_type": "markdown",
   "id": "7c26b7e5",
   "metadata": {},
   "source": [
    "--- \n",
    "## 7. 문자열 \"hello\"와 문자열 \"world\"를 이어 붙인 결과를 출력하는 프로그램을 작성하라."
   ]
  },
  {
   "cell_type": "code",
   "execution_count": 6,
   "id": "b9046a2d",
   "metadata": {},
   "outputs": [
    {
     "name": "stdout",
     "output_type": "stream",
     "text": [
      "hello world\n"
     ]
    }
   ],
   "source": [
    "char1 = \"hello\"\n",
    "char2 = \"world\"\n",
    "\n",
    "print(char1 + \" \" + char2)"
   ]
  },
  {
   "cell_type": "markdown",
   "id": "ab55b216",
   "metadata": {},
   "source": [
    "---\n",
    "## 8. 7을 2로 나눈 결과가 3보다 작은지 검사하는 프로그램을 작성하라."
   ]
  },
  {
   "cell_type": "code",
   "execution_count": 7,
   "id": "85db747d",
   "metadata": {},
   "outputs": [
    {
     "name": "stdout",
     "output_type": "stream",
     "text": [
      "7을 2로 나눈 결과가 3보다 큽니다.\n"
     ]
    }
   ],
   "source": [
    "num1 = 7\n",
    "num2 = 2\n",
    "\n",
    "if num1 / num2 < 3:\n",
    "    print(\"7을 2로 나눈 결과가 3보다 작습니다.\")\n",
    "else:\n",
    "    print(\"7을 2로 나눈 결과가 3보다 큽니다.\")"
   ]
  },
  {
   "cell_type": "markdown",
   "id": "3ad473bc",
   "metadata": {},
   "source": [
    "---\n",
    "## 9. 변수 x의 값이 5와 같지 않은지 검사하는 프로그램을 작성하라."
   ]
  },
  {
   "cell_type": "code",
   "execution_count": 8,
   "id": "cb1de56b",
   "metadata": {},
   "outputs": [
    {
     "name": "stdout",
     "output_type": "stream",
     "text": [
      "x의 값이 5와 같습니다.\n"
     ]
    }
   ],
   "source": [
    "x = int(input(\"정수를 입력하세요: \"))\n",
    "\n",
    "if x != 5:\n",
    "    print(\"x의 값이 5와 같지 않습니다.\")\n",
    "else:\n",
    "    print(\"x의 값이 5와 같습니다.\")"
   ]
  },
  {
   "cell_type": "markdown",
   "id": "0638ea90",
   "metadata": {},
   "source": [
    "---\n",
    "## 10. 변수 y의 값이 10에서 20 사이의 값인지 검사하는 프로그램을 작성하라"
   ]
  },
  {
   "cell_type": "code",
   "execution_count": 9,
   "id": "45e9c9ac",
   "metadata": {},
   "outputs": [
    {
     "name": "stdout",
     "output_type": "stream",
     "text": [
      "y의 값이 10에서 20 사이의 값입니다.\n"
     ]
    }
   ],
   "source": [
    "y = int(input(\"정수를 입력하세요: \"))\n",
    "\n",
    "if y >= 10 and y <= 20:\n",
    "    print(\"y의 값이 10에서 20 사이의 값입니다.\")\n",
    "else:\n",
    "    print(\"y의 값이 10에서 20 사이의 값이 아닙니다.\")"
   ]
  }
 ],
 "metadata": {
  "kernelspec": {
   "display_name": "Python 3",
   "language": "python",
   "name": "python3"
  },
  "language_info": {
   "codemirror_mode": {
    "name": "ipython",
    "version": 3
   },
   "file_extension": ".py",
   "mimetype": "text/x-python",
   "name": "python",
   "nbconvert_exporter": "python",
   "pygments_lexer": "ipython3",
   "version": "3.13.7"
  }
 },
 "nbformat": 4,
 "nbformat_minor": 5
}
