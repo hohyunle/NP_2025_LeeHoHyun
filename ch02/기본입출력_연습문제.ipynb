{
 "cells": [
  {
   "cell_type": "markdown",
   "id": "d9bd2fa4",
   "metadata": {},
   "source": [
    "# 📝 기본 입출력 연습문제\n",
    "\n",
    "## 문제 1: 두 실수의 곱셈\n",
    "키보드에서 임의의 두 실수를 입력 받아 곱한 후 그 결과를 출력하는 프로그램을 작성하고 실행하라\n"
   ]
  },
  {
   "cell_type": "code",
   "execution_count": 6,
   "id": "809a6f82",
   "metadata": {},
   "outputs": [
    {
     "name": "stdout",
     "output_type": "stream",
     "text": [
      "두 수의 곱은 20.0입니다.\n"
     ]
    }
   ],
   "source": [
    "# 두 실수 입력 받기\n",
    "num1 = float(input(\"첫 번째 실수를 입력하세요: \"))\n",
    "num2 = float(input(\"두 번째 실수를 입력하세요: \"))\n",
    "\n",
    "# 곱셈 계산\n",
    "result = num1 * num2\n",
    "\n",
    "# 결과 출력\n",
    "print(f\"두 수의 곱은 {result}입니다.\")"
   ]
  },
  {
   "cell_type": "markdown",
   "id": "d5affd63",
   "metadata": {},
   "source": [
    "---\n",
    "\n",
    "## 문제 2: 마일을 킬로미터로 변환\n",
    "1마일은 1.609km이다. 키보드에서 마일(정수)을 입력 받아 km로 변환해 출력하는 프로그램을 작성하고 실행하라"
   ]
  },
  {
   "cell_type": "code",
   "execution_count": 7,
   "id": "b8613586",
   "metadata": {},
   "outputs": [
    {
     "name": "stdout",
     "output_type": "stream",
     "text": [
      "5마일은 8.045km입니다.\n"
     ]
    }
   ],
   "source": [
    "# 마일 입력 받기\n",
    "mile = int(input(\"마일을 입력하세요: \"))\n",
    "\n",
    "# 킬로미터로 변환\n",
    "km = float(mile * 1.609)\n",
    "\n",
    "# 결과 출력\n",
    "print(f\"{mile}마일은 {km}km입니다.\")"
   ]
  },
  {
   "cell_type": "markdown",
   "id": "5da5de69",
   "metadata": {},
   "source": [
    "---\n",
    "\n",
    "## 문제 3: 원의 둘레와 면적 계산\n",
    "원의 반지름을 입력 받아 원의 둘레와 원의 면적을 출력하는 프로그램을 작성하라"
   ]
  },
  {
   "cell_type": "code",
   "execution_count": 8,
   "id": "59b93ac8",
   "metadata": {},
   "outputs": [
    {
     "name": "stdout",
     "output_type": "stream",
     "text": [
      "원의 둘레는 21.67이고, 원의 면적은 37.37입니다.\n"
     ]
    }
   ],
   "source": [
    "# 반지름 입력 받기\n",
    "radius = float(input(\"원의 반지름을 입력하세요: \"))\n",
    "\n",
    "# 원의 둘레와 면적 계산\n",
    "perimeter = 2 * 3.14 * radius\n",
    "area = 3.14 * radius ** 2\n",
    "\n",
    "# 결과 출력 (소수점 2자리까지)\n",
    "print(f\"원의 둘레는 {perimeter:.2f}이고, 원의 면적은 {area:.2f}입니다.\")"
   ]
  }
 ],
 "metadata": {
  "kernelspec": {
   "display_name": "Python 3",
   "language": "python",
   "name": "python3"
  },
  "language_info": {
   "codemirror_mode": {
    "name": "ipython",
    "version": 3
   },
   "file_extension": ".py",
   "mimetype": "text/x-python",
   "name": "python",
   "nbconvert_exporter": "python",
   "pygments_lexer": "ipython3",
   "version": "3.13.7"
  }
 },
 "nbformat": 4,
 "nbformat_minor": 5
}
