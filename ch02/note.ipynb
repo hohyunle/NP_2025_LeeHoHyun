{
 "cells": [
  {
   "cell_type": "markdown",
   "id": "a2c4e2f2",
   "metadata": {},
   "source": []
  },
  {
   "cell_type": "code",
   "execution_count": null,
   "id": "e8845de9",
   "metadata": {
    "vscode": {
     "languageId": "plaintext"
    }
   },
   "outputs": [],
   "source": [
    "print(\"Hello, 여러분!!\")"
   ]
  }
 ],
 "metadata": {
  "language_info": {
   "name": "python"
  }
 },
 "nbformat": 4,
 "nbformat_minor": 5
}
