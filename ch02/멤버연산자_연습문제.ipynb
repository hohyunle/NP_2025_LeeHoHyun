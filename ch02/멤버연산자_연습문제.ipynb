{
 "cells": [
  {
   "cell_type": "markdown",
   "id": "395ea529",
   "metadata": {},
   "source": [
    "1. 숫자 7이 리스트 [1, 2, 3, 4, 5]에 포함되어 있는지 검사하는 프로그램을 작성하라."
   ]
  },
  {
   "cell_type": "code",
   "execution_count": 6,
   "id": "c9188952",
   "metadata": {},
   "outputs": [
    {
     "name": "stdout",
     "output_type": "stream",
     "text": [
      "7이 없습니다.\n"
     ]
    }
   ],
   "source": [
    "a = [1, 2, 3, 4, 5]\n",
    "\n",
    "if 7 in a:\n",
    "    print(\"7이 있습니다.\")\n",
    "else:\n",
    "    print(\"7이 없습니다.\")"
   ]
  },
  {
   "cell_type": "markdown",
   "id": "4730219a",
   "metadata": {},
   "source": [
    "2. 문자열 \"apple\"이 세트 {\"orange\", \"banana\", \"kiwi\"}에 포함되어 있는지 검사하는 프로\n",
    "그램을 작성하라."
   ]
  },
  {
   "cell_type": "code",
   "execution_count": 7,
   "id": "786f51db",
   "metadata": {},
   "outputs": [
    {
     "name": "stdout",
     "output_type": "stream",
     "text": [
      "apple이 없습니다.\n"
     ]
    }
   ],
   "source": [
    "fruits = {\"orange\", \"banana\", \"kiwi\"}\n",
    "\n",
    "if \"apple\" in fruits:\n",
    "    print(\"apple이 있습니다.\")\n",
    "else:\n",
    "    print(\"apple이 없습니다.\")"
   ]
  },
  {
   "cell_type": "markdown",
   "id": "14c20484",
   "metadata": {},
   "source": [
    "3. 숫자 6이 딕셔너리 {\"a\": 1, \"b\": 2, \"c\": 3, \"d\": 4}의 값들 중 하나인지 검사하는 프로그램을\n",
    "작성하라."
   ]
  },
  {
   "cell_type": "code",
   "execution_count": 8,
   "id": "426d3229",
   "metadata": {},
   "outputs": [
    {
     "name": "stdout",
     "output_type": "stream",
     "text": [
      "6이 없습니다.\n"
     ]
    }
   ],
   "source": [
    "number = {\"a\": 1, \"b\": 2, \"c\": 3, \"d\": 4}\n",
    "\n",
    "if 6 in number.values():\n",
    "    print(\"6이 있습니다.\")\n",
    "else:\n",
    "    print(\"6이 없습니다.\")"
   ]
  },
  {
   "cell_type": "markdown",
   "id": "1e5ca585",
   "metadata": {},
   "source": [
    "4. 문자열 \"cat\"이 튜플 (\"dog\", \"cat\", \"bird\", \"hamster\")에 포함되어 있는지 검사하는 프로\n",
    "그램을 작성하라."
   ]
  },
  {
   "cell_type": "code",
   "execution_count": 9,
   "id": "4a597f95",
   "metadata": {},
   "outputs": [
    {
     "name": "stdout",
     "output_type": "stream",
     "text": [
      "cat이 있습니다.\n"
     ]
    }
   ],
   "source": [
    "animals = (\"dog\", \"cat\", \"bird\", \"hamster\")\n",
    "\n",
    "if \"cat\" in animals:\n",
    "    print(\"cat이 있습니다.\")\n",
    "else:\n",
    "    print(\"cat이 없습니다.\")"
   ]
  },
  {
   "cell_type": "markdown",
   "id": "0ba19c87",
   "metadata": {},
   "source": [
    "5. 숫자 10이 세트 {2, 4, 6, 8, 10}에 포함되어 있는지 검사하는 프로그램을 작성하라"
   ]
  },
  {
   "cell_type": "code",
   "execution_count": 10,
   "id": "5144f2aa",
   "metadata": {},
   "outputs": [
    {
     "name": "stdout",
     "output_type": "stream",
     "text": [
      "10이 있습니다.\n"
     ]
    }
   ],
   "source": [
    "numbers = {2, 4, 6, 8, 10}\n",
    "\n",
    "if 10 in numbers:\n",
    "    print(\"10이 있습니다.\")\n",
    "else:\n",
    "    print(\"10이 없습니다.\")"
   ]
  }
 ],
 "metadata": {
  "kernelspec": {
   "display_name": "Python 3",
   "language": "python",
   "name": "python3"
  },
  "language_info": {
   "codemirror_mode": {
    "name": "ipython",
    "version": 3
   },
   "file_extension": ".py",
   "mimetype": "text/x-python",
   "name": "python",
   "nbconvert_exporter": "python",
   "pygments_lexer": "ipython3",
   "version": "3.13.7"
  }
 },
 "nbformat": 4,
 "nbformat_minor": 5
}
