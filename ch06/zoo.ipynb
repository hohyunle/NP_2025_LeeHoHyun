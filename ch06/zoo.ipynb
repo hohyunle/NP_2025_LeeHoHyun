{
 "cells": [
  {
   "cell_type": "markdown",
   "id": "6b849204",
   "metadata": {},
   "source": [
    "동물(Animal)을 울음을 추상 메소드로 하는 추상클래스로 정의하고, 개(Dog)와 고양이(Cat)를 구체적인 클래스로 정의한 후, 각 동물의 울음소리를 출력하는 프로그램을 작성하세요. 각 동물객체는 자신의 이름을 속성으로 가지며, 생성자에서 이름을 초기화합니다. \n",
    "\n",
    "추가적으로 Animal 클래스는 현재 생성된 동물 객체의 수를 클래스 변수로 가지고, 정적 메소드로 현재 동물 객체의 수를 반환하는 메소드를 구현"
   ]
  },
  {
   "cell_type": "code",
   "execution_count": 15,
   "id": "be3510b5",
   "metadata": {},
   "outputs": [
    {
     "name": "stdout",
     "output_type": "stream",
     "text": [
      "라이언이/가 멍멍하고 울어요\n",
      "춘식이이/가 야옹하고 울어요\n",
      "전체 동물 수 :  2\n",
      "라이언이/가 멍멍하고 울어요\n",
      "전체 동물 수 :  3\n",
      "멍멍이이/가 멍멍하고 울어요\n",
      "나비이/가 야옹하고 울어요\n",
      "초코이/가 멍멍하고 울어요\n",
      "네로이/가 야옹하고 울어요\n"
     ]
    }
   ],
   "source": [
    "from abc import ABC, abstractmethod\n",
    "\n",
    "class Animal(ABC):\n",
    "    animal_count = 0                        # 클래스 변수로 동물 객체 수를 지정\n",
    "\n",
    "    def __init__(self):\n",
    "        Animal.animal_count += 1\n",
    "\n",
    "    @abstractmethod\n",
    "    def sound(self):\n",
    "        pass\n",
    "\n",
    "    @staticmethod\n",
    "    def get_animal_count():\n",
    "        return Animal.animal_count          # 현재 동물 객체 수 반환\n",
    "\n",
    "class Dog(Animal):\n",
    "    def __init__(self, name):               # 생성자에서 이름을 초기화 \n",
    "        super().__init__()                  # 부모 클래스의 생성자 호출\n",
    "        self.__name = name\n",
    "\n",
    "    def sound(self):\n",
    "        return f\"{self.__name}이/가 멍멍하고 울어요\"\n",
    "\n",
    "class Cat(Animal):\n",
    "    def __init__(self, name):\n",
    "        super().__init__()\n",
    "        self.__name = name\n",
    "    \n",
    "    def sound(self):    # 추상 메소드 구현\n",
    "        return f\"{self.__name}이/가 야옹하고 울어요\"\n",
    "\n",
    "if __name__ == \"__main__\":\n",
    "    mydog : Dog = Dog(\"라이언\")\n",
    "    mycat : Cat = Cat(\"춘식이\")\n",
    "    #ㄴ cat 타입\n",
    "    print(mydog.sound())\n",
    "    print(mycat.sound())\n",
    "\n",
    "    print(\"전체 동물 수 : \", Animal.get_animal_count())\n",
    "\n",
    "    #anymal = Animal = Animal()  # 추상 클래스는 객체 생성 불가\n",
    "    anymal = Animal = Dog(\"라이언\")\n",
    "    print(anymal.sound())        # 실제 객체 사운드 함수 소리가 남. *다형성*\n",
    "    print(\"전체 동물 수 : \", Animal.get_animal_count())\n",
    "\n",
    "    anymallist = [Dog(\"멍멍이\"), Cat(\"나비\"), Dog(\"초코\"), Cat(\"네로\")]\n",
    "    for animal in anymallist:   # animal 타입은 공통적인 anumal 타입으로 받음?\n",
    "        print(animal.sound())\n",
    "\n",
    "    def make_sound(animals : list[Animal]):\n",
    "        for animal in animals:   # animal 타입은 공통적인 anumal 타입으로 받음?\n",
    "            print(animal.sound())\n",
    "\n",
    "\n",
    "\n"
   ]
  }
 ],
 "metadata": {
  "kernelspec": {
   "display_name": "Python 3",
   "language": "python",
   "name": "python3"
  },
  "language_info": {
   "codemirror_mode": {
    "name": "ipython",
    "version": 3
   },
   "file_extension": ".py",
   "mimetype": "text/x-python",
   "name": "python",
   "nbconvert_exporter": "python",
   "pygments_lexer": "ipython3",
   "version": "3.13.7"
  }
 },
 "nbformat": 4,
 "nbformat_minor": 5
}
