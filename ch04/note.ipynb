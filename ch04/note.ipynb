{
 "cells": [
  {
   "cell_type": "markdown",
   "id": "2e61554a",
   "metadata": {},
   "source": [
    "# NP 2-2 파이썬 자료구조\n",
    "## 01. 데이터형, 연산자, 표현식\n",
    "\n",
    "---"
   ]
  },
  {
   "cell_type": "markdown",
   "id": "ece561d2",
   "metadata": {},
   "source": [
    "### 1. 자료구조\n",
    "• 자료를 표현하고 처리하기 위해 사용되는 구조  \n",
    "• 자료를 효율적으로 처리하고 저장하는 데 사용  \n",
    "• 파이썬에서 사용되는 기본 자료 구조  \n",
    "   • 문자열(string) : str = ‘abcde’ 홑/겹 따옴표로 묶인 문자열  \n",
    "   •  리스트(list) : list = [ 1, 2, 3, 4] 순서가 있는 원소(객체)의 목록  \n",
    "   • 튜플(tuple) tuple = (1,2,3) immutable 한 데이터의 쌍  \n",
    "   •  딕셔너리(dictionary) dic = {‘a’:1, ‘b’:23, ‘c’: 32} 유일한 키로 이루어진 키:값의 집합  \n",
    "   • 집합(set) set = {1,5,3,2} 유일한 값들의 집합\n",
    "\n",
    "\n",
    "#### 문자열\n",
    "> 문자열은 문자나 단어 등으로 구성된 문자의 집합을 표현하는 자료구조   \n",
    "> 다수의 문자를 표현하기 위한 자료구조\n",
    "문자열이름 = \"글씨들\" (또는 '글씨들')"
   ]
  },
  {
   "cell_type": "code",
   "execution_count": null,
   "id": "0d5060a2",
   "metadata": {},
   "outputs": [
    {
     "data": {
      "text/plain": [
       "'P'"
      ]
     },
     "execution_count": 2,
     "metadata": {},
     "output_type": "execute_result"
    }
   ],
   "source": [
    "# 문자열 요소(문자)를 개별적으로 사용하기 - index\n",
    "word = 'Python'\n",
    "word[0]         # 위치(첨자) 0의 문자. 인덱스는 0부터 시작\n",
    "word[5]         # 인덱스 5의 문자\n",
    "\n",
    "word = 'Python'\n",
    "word[-1]        # 마지막 문자. 마지막은 -1로 표시\n",
    "word[-6]        # 뒤에서 6번째 문자"
   ]
  },
  {
   "cell_type": "code",
   "execution_count": null,
   "id": "b2b85cb5",
   "metadata": {},
   "outputs": [
    {
     "data": {
      "text/plain": [
       "'Python'"
      ]
     },
     "execution_count": 3,
     "metadata": {},
     "output_type": "execute_result"
    }
   ],
   "source": [
    "# 문자열 슬라이싱(잘라내기)\n",
    "word = 'Python'\n",
    "word[0:2]           # 첨자 0부터 1(=2-1)까지\n",
    "word[2:5]           # 첨자 2부터 4(=5-1)까지\n",
    "word[:2]            # 첨자 0부터 1까지\n",
    "word[4:]            # 첨자 4부터 끝까지\n",
    "word[-2:]           # 첨자 -2부터 끝까지 문자열\n",
    "\n",
    "word = 'Python'\n",
    "word[:2]            # 처음부터 1까지 슬라이싱\n",
    "word[2:]            # 2부터 끝까지 \n",
    "word[:2] + word[2:] # 문자열 합치기"
   ]
  },
  {
   "cell_type": "code",
   "execution_count": null,
   "id": "4c6133fc",
   "metadata": {},
   "outputs": [
    {
     "ename": "TypeError",
     "evalue": "'str' object does not support item assignment",
     "output_type": "error",
     "traceback": [
      "\u001b[31m---------------------------------------------------------------------------\u001b[39m",
      "\u001b[31mTypeError\u001b[39m                                 Traceback (most recent call last)",
      "\u001b[36mCell\u001b[39m\u001b[36m \u001b[39m\u001b[32mIn[7]\u001b[39m\u001b[32m, line 8\u001b[39m\n\u001b[32m      5\u001b[39m word[\u001b[32m42\u001b[39m:]  \u001b[38;5;66;03m# ➋ 범위를 벗어난 슬라이싱\u001b[39;00m\n\u001b[32m      7\u001b[39m \u001b[38;5;66;03m# 문자열은 수정 불가-immutable\u001b[39;00m\n\u001b[32m----> \u001b[39m\u001b[32m8\u001b[39m \u001b[43mword\u001b[49m\u001b[43m[\u001b[49m\u001b[32;43m0\u001b[39;49m\u001b[43m]\u001b[49m = \u001b[33m'\u001b[39m\u001b[33mJ\u001b[39m\u001b[33m'\u001b[39m\n",
      "\u001b[31mTypeError\u001b[39m: 'str' object does not support item assignment"
     ]
    }
   ],
   "source": [
    "# 문자열 인덱싱과 슬라이싱 오류\n",
    "# word[42] # 6개 문자로 구성되어 있을 때\n",
    "\n",
    "word[4:42] # ➊ 슬라이싱에서는 범위를 벗어나도 OK\n",
    "word[42:]  # ➋ 범위를 벗어난 슬라이싱\n",
    "\n",
    "# 문자열은 수정 불가 - immutable\n",
    "word[0] = 'J'"
   ]
  },
  {
   "cell_type": "code",
   "execution_count": null,
   "id": "6e44815e",
   "metadata": {},
   "outputs": [
    {
     "ename": "KeyboardInterrupt",
     "evalue": "Interrupted by user",
     "output_type": "error",
     "traceback": [
      "\u001b[31m---------------------------------------------------------------------------\u001b[39m",
      "\u001b[31mKeyboardInterrupt\u001b[39m                         Traceback (most recent call last)",
      "\u001b[36mCell\u001b[39m\u001b[36m \u001b[39m\u001b[32mIn[9]\u001b[39m\u001b[32m, line 15\u001b[39m\n\u001b[32m     13\u001b[39m count, i = \u001b[32m0\u001b[39m, \u001b[32m0\u001b[39m\n\u001b[32m     14\u001b[39m \u001b[38;5;66;03m## 메인 코드 부분 ##\u001b[39;00m\n\u001b[32m---> \u001b[39m\u001b[32m15\u001b[39m inStr = \u001b[38;5;28;43minput\u001b[39;49m\u001b[43m(\u001b[49m\u001b[33;43m\"\u001b[39;49m\u001b[33;43mType string : \u001b[39;49m\u001b[33;43m\"\u001b[39;49m\u001b[43m)\u001b[49m\n\u001b[32m     16\u001b[39m count = \u001b[38;5;28mlen\u001b[39m(inStr) \u001b[38;5;66;03m# 문자열 길이\u001b[39;00m\n\u001b[32m     17\u001b[39m \u001b[38;5;28;01mfor\u001b[39;00m i \u001b[38;5;129;01min\u001b[39;00m \u001b[38;5;28mrange\u001b[39m(\u001b[32m0\u001b[39m, count) :\n",
      "\u001b[36mFile \u001b[39m\u001b[32m~\\AppData\\Roaming\\Python\\Python313\\site-packages\\ipykernel\\kernelbase.py:1275\u001b[39m, in \u001b[36mKernel.raw_input\u001b[39m\u001b[34m(self, prompt)\u001b[39m\n\u001b[32m   1273\u001b[39m     msg = \u001b[33m\"\u001b[39m\u001b[33mraw_input was called, but this frontend does not support input requests.\u001b[39m\u001b[33m\"\u001b[39m\n\u001b[32m   1274\u001b[39m     \u001b[38;5;28;01mraise\u001b[39;00m StdinNotImplementedError(msg)\n\u001b[32m-> \u001b[39m\u001b[32m1275\u001b[39m \u001b[38;5;28;01mreturn\u001b[39;00m \u001b[38;5;28;43mself\u001b[39;49m\u001b[43m.\u001b[49m\u001b[43m_input_request\u001b[49m\u001b[43m(\u001b[49m\n\u001b[32m   1276\u001b[39m \u001b[43m    \u001b[49m\u001b[38;5;28;43mstr\u001b[39;49m\u001b[43m(\u001b[49m\u001b[43mprompt\u001b[49m\u001b[43m)\u001b[49m\u001b[43m,\u001b[49m\n\u001b[32m   1277\u001b[39m \u001b[43m    \u001b[49m\u001b[38;5;28;43mself\u001b[39;49m\u001b[43m.\u001b[49m\u001b[43m_parent_ident\u001b[49m\u001b[43m[\u001b[49m\u001b[33;43m\"\u001b[39;49m\u001b[33;43mshell\u001b[39;49m\u001b[33;43m\"\u001b[39;49m\u001b[43m]\u001b[49m\u001b[43m,\u001b[49m\n\u001b[32m   1278\u001b[39m \u001b[43m    \u001b[49m\u001b[38;5;28;43mself\u001b[39;49m\u001b[43m.\u001b[49m\u001b[43mget_parent\u001b[49m\u001b[43m(\u001b[49m\u001b[33;43m\"\u001b[39;49m\u001b[33;43mshell\u001b[39;49m\u001b[33;43m\"\u001b[39;49m\u001b[43m)\u001b[49m\u001b[43m,\u001b[49m\n\u001b[32m   1279\u001b[39m \u001b[43m    \u001b[49m\u001b[43mpassword\u001b[49m\u001b[43m=\u001b[49m\u001b[38;5;28;43;01mFalse\u001b[39;49;00m\u001b[43m,\u001b[49m\n\u001b[32m   1280\u001b[39m \u001b[43m\u001b[49m\u001b[43m)\u001b[49m\n",
      "\u001b[36mFile \u001b[39m\u001b[32m~\\AppData\\Roaming\\Python\\Python313\\site-packages\\ipykernel\\kernelbase.py:1320\u001b[39m, in \u001b[36mKernel._input_request\u001b[39m\u001b[34m(self, prompt, ident, parent, password)\u001b[39m\n\u001b[32m   1317\u001b[39m \u001b[38;5;28;01mexcept\u001b[39;00m \u001b[38;5;167;01mKeyboardInterrupt\u001b[39;00m:\n\u001b[32m   1318\u001b[39m     \u001b[38;5;66;03m# re-raise KeyboardInterrupt, to truncate traceback\u001b[39;00m\n\u001b[32m   1319\u001b[39m     msg = \u001b[33m\"\u001b[39m\u001b[33mInterrupted by user\u001b[39m\u001b[33m\"\u001b[39m\n\u001b[32m-> \u001b[39m\u001b[32m1320\u001b[39m     \u001b[38;5;28;01mraise\u001b[39;00m \u001b[38;5;167;01mKeyboardInterrupt\u001b[39;00m(msg) \u001b[38;5;28;01mfrom\u001b[39;00m\u001b[38;5;250m \u001b[39m\u001b[38;5;28;01mNone\u001b[39;00m\n\u001b[32m   1321\u001b[39m \u001b[38;5;28;01mexcept\u001b[39;00m \u001b[38;5;167;01mException\u001b[39;00m:\n\u001b[32m   1322\u001b[39m     \u001b[38;5;28mself\u001b[39m.log.warning(\u001b[33m\"\u001b[39m\u001b[33mInvalid Message:\u001b[39m\u001b[33m\"\u001b[39m, exc_info=\u001b[38;5;28;01mTrue\u001b[39;00m)\n",
      "\u001b[31mKeyboardInterrupt\u001b[39m: Interrupted by user"
     ]
    }
   ],
   "source": [
    "# 슬라이싱을 이용하여 새로운 문자열 만들기\n",
    "word = 'Python'\n",
    "word2 = 'J' + word[1:] # +를 이용한 문자열 합치기\n",
    "word2\n",
    "\n",
    "# 문자열 길이 확인 - len()\n",
    "s = 'smiles'\n",
    "len(s)\n",
    "\n",
    "# index를 이용하여 문자열의 문자를 역순으로 만들기\n",
    "## 변수 초기화 부분 ##\n",
    "outStr = \"\" # 출력 문자열(빈 문자열)\n",
    "count, i = 0, 0\n",
    "## 메인 코드 부분 ##\n",
    "inStr = input(\"Type string : \")\n",
    "count = len(inStr) # 문자열 길이\n",
    "for i in range(0, count):\n",
    "    outStr += inStr[count - (i + 1)] # 마지막 문자부터 추출하여 합치기\n",
    "print(\"Reversed string : %s\" % outStr)\n",
    "\n",
    "# 문자열에서 문자 조사하기 – in/not in 연산자(멤버 연산자)\n",
    "'a' in 'cat'\n",
    "'a' not in 'can'"
   ]
  },
  {
   "cell_type": "markdown",
   "id": "39b8cb03",
   "metadata": {},
   "source": [
    "#### 문자열 처리 메소드 : dir(str), help(str.method)\n",
    "• 파이썬은 객체지향 언어이므로 객체(object)가 많이 사용된다  \n",
    "• 객체는 변수와 함수를 묶은 것이다. 문자열도 객체다  \n",
    "• 객체와 관련된 함수를 메소드라 하며 객체.함수()로 호출한다\n",
    "\n",
    "####  문자열 구성 파악하기\n",
    "- '123'.isdigit() 문자열이 숫자인가?\n",
    "- 'abcABC'.isalpha() 문자열이 문자인가?\n",
    "- 'Ab122'.isalnum() 문자열이 문자+숫자 혼합인가?\n",
    "- 'AB'.isupper() 문자열이 대문자인가?\n",
    "- 'ab'.islower() 문자열이 소문자인가?\n",
    "- ' '.isspace() 문자열이 공백인가?\n",
    "\n",
    "#### 문자열을 대소문자로 변환하기\n",
    "- str = 'Python programming is easy!'\n",
    "- str.upper() 대문자로 변환\n",
    "- str.lower() 소문자로 변환\n",
    "- str.swapcase() 대소문자 바꾸기\n",
    "- str.title() 첫 글자만 대문자로 변환"
   ]
  },
  {
   "cell_type": "code",
   "execution_count": null,
   "id": "b69aa10b",
   "metadata": {},
   "outputs": [],
   "source": [
    "# 문자열 찾기\n",
    "str = 'Python programming is easy!'\n",
    "str.count('i')  # 문자열에서 문자 'i'의 개수\n",
    "\n",
    "str.find('o')   # 문자열에서 'o'의 처음 위치. 없으면 -1 반환\n",
    "\n",
    "str.rfind('o')  # 문자열에서 'o'가 나오는 가장 나중 위치\n",
    "\n",
    "str.index('on') # 문자열에서 'on'의 처음 위치. 없으면 ValueError\n",
    "\n",
    "# 문자열 분리하기\n",
    "x = 'a bc'      # a와 b 사이에 공백이 있다\n",
    "x.split()       # 공백을 기준으로 분리\n",
    "\n",
    "x.split('b')    # 문자열을 ( )속의 문자로 분리한다\n",
    "# ['a ', 'c']   # 분리문자 'b'는 제외됨\n",
    "\n",
    "# 문자열에서 공백 제거하기\n",
    "str = ' hello '\n",
    "str.strip()     # 양쪽에서 공백 제거\n",
    "\n",
    "str             # 원래 문자열은 변하지 않는다\n",
    "\n",
    "str.rstrip()    # 오른쪽 공백 제거\n",
    "\n",
    "str.lstrip()    # 왼쪽 공백 제거\n",
    "\n",
    "# 문자열 결합하기\n",
    "'*'.join('hello') # *와 문자열의 각 문자를 하나씩 결합한 문자열 생성\n",
    "\n",
    "# 문자열 채우기\n",
    "'12'.zfill(5)   # 문자열 '12'의 왼쪽을 0으로 채워 5자리로 만든다\n",
    "\n",
    "# 문자열 정렬하기\n",
    "'he'.rjust(5)   # 5자리를 오른쪽으로 정렬\n",
    "\n",
    "'he'.ljust(5)   # 5자리를 왼쪽으로 정렬\n",
    "\n",
    "'he'.center(5)  # 5자리를 가운데로 정렬\n"
   ]
  },
  {
   "cell_type": "markdown",
   "id": "7b01a0c1",
   "metadata": {},
   "source": [
    "---\n",
    "### 1. 리스트\n",
    "> 리스트는 여러 가지 자료를 하나로 모아서 표현할 수 있는 자료구조\n",
    "\n",
    "#### 리스트\n",
    "> 리스트는 여러 개의 데이터를 하나의 이름으로 저장하는 자료 구조  \n",
    "> 리스트 이름 = [항목1 , 항목2, ...]"
   ]
  },
  {
   "cell_type": "code",
   "execution_count": null,
   "id": "8138b3c8",
   "metadata": {},
   "outputs": [],
   "source": [
    "# 리스트 생성\n",
    "odd = [1, 3, 5, 7, 9]                   # [ ]를 이용하여 리스트 생성\n",
    "squares = [1, 4, 9, 16, 25]\n",
    "print(squares)\n",
    "\n",
    "empty = []                              # 공백 리스트. empy = list()\n",
    "print(empty)\n",
    "\n",
    "a = [1, 'hello', 2, 'world', 1.23]      # 리스트 요소는 어떤 것이라도 가능"
   ]
  },
  {
   "cell_type": "code",
   "execution_count": null,
   "id": "3704e80f",
   "metadata": {},
   "outputs": [],
   "source": [
    "# 리스트의 인덱싱(요소 접근하기)과 슬라이싱(잘라내기)\n",
    "squares = [1, 4, 9, 16, 25]\n",
    "print(squares[0])   # 리스트 요소 추출하기(인덱싱은 0부터)\n",
    "print(squares[-1])  # 마지막 요소\n",
    "print(squares[0:3]) # 0부터(3-1)까지 잘라내기\n",
    "print(squares[-3:])  # 뒤에서 3번째부터 마지막까지 잘라내기\n",
    "\n",
    "# 리스트 합치기\n",
    "print(squares + [36, 49, 64, 81, 100]) # 리스트 합치기\n",
    "\n",
    "a = [1, 2, 3]\n",
    "b = [4, 5, 6]\n",
    "print(a + b)                           # 리스트 합치기"
   ]
  },
  {
   "cell_type": "code",
   "execution_count": null,
   "id": "0d5d4bda",
   "metadata": {},
   "outputs": [],
   "source": [
    "# 리스트의 요소 수정, 추가하기\n",
    "# ➊ 수정하기\n",
    "cubes = [1, 8, 27, 65, 125]      #세제곱수\n",
    "print(4 ** 3)                    # 4의 세제곱은 64!\n",
    "\n",
    "cubes[3] = 64                    # 리스트 요소 수정하기\n",
    "print(cubes)                     #수정된 리스트\n",
    "\n",
    "# ➋ 마지막에 요소 추가하기\n",
    "cubes.append(216)                # 마지막에 리스트 요소 추가하기\n",
    "cubes.append(7 ** 3)             # 마지막에 리스트 요소 추가하기\n",
    "print(cubes)\n",
    "\n",
    "# ➌ 요소 수정하기\n",
    "letters = ['a', 'b', 'c', 'd', 'e', 'f', 'g']\n",
    "print(letters)\n",
    "\n",
    "letters[2:5] = ['C', 'D', 'E']   # 리스트 요소 수정\n",
    "print(letters)\n",
    "\n",
    "letters[2:5] = []                # 리스트 요소 제거\n",
    "print(letters)\n",
    "\n",
    "letters[:] = []                  # 리스트 요소를 모두 제거\n",
    "print(letters)"
   ]
  },
  {
   "cell_type": "code",
   "execution_count": null,
   "id": "693b2e3d",
   "metadata": {},
   "outputs": [],
   "source": [
    "# 중첩 리스트\n",
    "a = ['a', 'b', 'c']\n",
    "n = [1, 2, 3]\n",
    "x = [a, n]\n",
    "print(x)            # 리스트 요소가 리스트이다\n",
    "\n",
    "print(x[0])\n",
    "\n",
    "print(x[0][1])      # 중첩 리스트 요소 지정"
   ]
  },
  {
   "cell_type": "code",
   "execution_count": null,
   "id": "0d84f116",
   "metadata": {},
   "outputs": [],
   "source": [
    "# 2차원 리스트\n",
    "list2d = [[1,2,3],   # 배열을 나타낼 때 편리\n",
    "[4,5,6],\n",
    "[7,8,9]]\n",
    "\n",
    "print(list2d[0][0])  # 1\n",
    "print(list2d[2][2])  # 9"
   ]
  },
  {
   "cell_type": "code",
   "execution_count": null,
   "id": "659a265d",
   "metadata": {},
   "outputs": [],
   "source": [
    "# 내장 함수를 이용한 리스트 다루기\n",
    "# ➊ 리스트 길이 알아내기\n",
    "letters = ['a', 'b', 'c', 'd']\n",
    "print(len(letters))\n",
    "\n",
    "# ➋ 리스트 요소 합, 최소값, 최대값 구하기\n",
    "num = [1, 2, 3, 4, 5]\n",
    "print(sum(num))\n",
    "print(min(num))\n",
    "print(max(num))\n",
    "print(max(num))"
   ]
  },
  {
   "cell_type": "markdown",
   "id": "29bb6871",
   "metadata": {},
   "source": [
    "#### 리스트 메소드(list.method)\n",
    "\n",
    "| 함수명 | 사용 방법 | 설명 |\n",
    "|--------|-----------|------|\n",
    "| `del()` | `del(List[pos])` | List의 pos 위치에 있는 항목을 삭제합니다. |\n",
    "| `len()` | `len(List)` | List에 있는 항목의 총 개수를 셉니다. |\n",
    "| `sorted()` | `newList = sorted(List)` | List의 항목들을 정렬하여 newList라는 새로운 리스트를 만듭니다. |\n",
    "| `append()` | `List.append(val)` | List의 끝에 val 항목을 추가합니다. |\n",
    "| `clear()` | `List.clear()` | List의 모든 내용을 지웁니다. |\n",
    "| `copy()` | `newList = List.copy()` | List의 내용을 newList라는 새로운 리스트에 복사합니다. |\n",
    "| `count()` | `List.count(val)` | List에서 val이 나타나는 횟수를 셉니다. |\n",
    "| `extend()` | `List.extend(newList)` | 현재 List의 끝에 newList를 추가합니다. |\n",
    "| `index()` | `List.index(val)` | val을 찾아서 그 인덱스(위치)를 반환합니다. |\n",
    "| `insert()` | `List.insert(pos, val)` | List의 pos 위치에 val을 삽입합니다. |\n",
    "| `pop()` | `List.pop()` | List의 끝에서 항목을 삭제합니다. |\n",
    "| `remove()` | `List.remove(val)` | List에서 val 항목을 삭제합니다. (여러 개가 있으면 첫 번째 것만 삭제) |\n",
    "| `reverse()` | `List.reverse()` | List의 항목 순서를 뒤집습니다. |\n",
    "| `sort()` | `List.sort()` | List의 항목들을 정렬합니다. |\n"
   ]
  },
  {
   "cell_type": "code",
   "execution_count": null,
   "id": "80b03aa8",
   "metadata": {},
   "outputs": [],
   "source": [
    "# 숫자 vs 문자열 연산\n",
    "\n",
    "# 숫자 연산\n",
    "print(10 + 20)                    # 숫자 덧셈: 30\n",
    "\n",
    "# 문자열 연산  \n",
    "print(\"10\" + \"20\")                # 문자열 연결: \"1020\"\n",
    "\n",
    "# 서식 지정 출력\n",
    "n = 10\n",
    "m = 5.2\n",
    "print(\"n=%d\" % n)                 # 정수 출력\n",
    "print(\"m=%.1f, n=%d\" % (m, n))    # 소수점 1자리, 정수 출력"
   ]
  },
  {
   "cell_type": "code",
   "execution_count": null,
   "id": "5dfa75ff",
   "metadata": {},
   "outputs": [],
   "source": [
    "# input() 함수 사용법\n",
    "\n",
    "# 1. 사용자 입력 받기\n",
    "n = input('type a number : ')\n",
    "\n",
    "# 2. 입력된 데이터 확인\n",
    "print(n)\n",
    "\n",
    "# 3. 타입 변환\n",
    "print(f\"정수: {int(n)}\")\n",
    "print(f\"실수: {float(n)}\")\n",
    "print(f\"문자열: {str(n)}\")"
   ]
  },
  {
   "cell_type": "markdown",
   "id": "f5dcdb6a",
   "metadata": {},
   "source": [
    "#### 입출력 함수의 사용 예"
   ]
  },
  {
   "cell_type": "code",
   "execution_count": null,
   "id": "f29d41b6",
   "metadata": {},
   "outputs": [],
   "source": [
    "#  문자열을 입력 받아 다른 문자열과 결합하여 출력\n",
    "name = input('Name :')\n",
    "print(\"Hello, \" + name )\n",
    "\n",
    "# 두 정수를 입력 받아 곱셈 결과 출력\n",
    "a = int(input('Number 1: ')) # 문자열을 입력한 후 정수로 변환\n",
    "b = int(input('Number 2: '))\n",
    "print(a * b)\n",
    "\n",
    "# 섭씨온도(C)를 입력 받아 화씨온도(F)로 바꾸어 출력\n",
    "C = float(input(\"Type 섭씨온도 : \")) # 입력 문자열을 실수로 변환\n",
    "F = C * 9 / 5 + 32 #온도 변환\n",
    "print(\"화씨온도는\", F)"
   ]
  },
  {
   "cell_type": "markdown",
   "id": "658ba460",
   "metadata": {},
   "source": [
    "---\n",
    "### 📊 2. 기본 자료형\n",
    "> 파이썬에서 자료를 표현하기 위해 사용되는 기본 자료형을 알아본다.\n",
    "\n",
    "#### 부울형(Boolean)\n",
    "> 참(True) 또는 거짓(False) 중 하나의 값을 갖는 자료형(True, False)\n",
    "> 비교 결과를 저장할 때 사용"
   ]
  },
  {
   "cell_type": "code",
   "execution_count": null,
   "id": "515d175d",
   "metadata": {},
   "outputs": [],
   "source": [
    "# 부울형 확인\n",
    "\n",
    "# 1. 부울형 출력\n",
    "aVar = True\n",
    "bVar = False\n",
    "print(type(aVar))\n",
    "\n",
    "# 비교 결과 출력\n",
    "a = 1\n",
    "b = 2\n",
    "c = a > b\n",
    "print(c)\n",
    "\n",
    "d = a < b\n",
    "print(d)"
   ]
  },
  {
   "cell_type": "markdown",
   "id": "ea141be3",
   "metadata": {},
   "source": [
    "#### 정수(integer) 형"
   ]
  },
  {
   "cell_type": "code",
   "execution_count": null,
   "id": "9a48126e",
   "metadata": {},
   "outputs": [],
   "source": [
    "# 정수형 확인\n",
    "\n",
    "# 소수점 없는 숫자 표현\n",
    "intVar = 5\n",
    "print(type(intVar))\n",
    "\n",
    "# 여러 가지 정수 표현\n",
    "1, 23, 3493 # 10진수\n",
    "0b010101, 0b110010 # 2진수\n",
    "0o1, 0o27, 0o6645  # 8진수\n",
    "0x1, 0x17, 0xDA5   # 16진수"
   ]
  },
  {
   "cell_type": "markdown",
   "id": "72a63936",
   "metadata": {},
   "source": [
    "#### 실수(float)형"
   ]
  },
  {
   "cell_type": "code",
   "execution_count": null,
   "id": "99ce25e8",
   "metadata": {},
   "outputs": [],
   "source": [
    "# 실수형 확인\n",
    "fVar = 1.0\n",
    "print(type(fVar))\n",
    "\n",
    "# 여러 가지 실수 표현\n",
    "0., 0.0, .0, 1., 1.0, 1e0, 1.e0, 1.0e2\n",
    "\n",
    "# 쉽게 식별할 수 있도록 _를 사용한 숫자의 표현(파이썬 3.6 부터 적용)\n",
    "100_000.000_0001, 0x_FF_FF, 0o7_777, 0b_1010_1010\n",
    "\n",
    "0.00_10_27"
   ]
  },
  {
   "cell_type": "markdown",
   "id": "69494f4b",
   "metadata": {},
   "source": [
    "#### 문자열(string)\n",
    "> 나열된 문자들  \n",
    "> ' ' 또는 \" \"로 둘러 쌈  "
   ]
  },
  {
   "cell_type": "code",
   "execution_count": null,
   "id": "f13c3b78",
   "metadata": {},
   "outputs": [],
   "source": [
    "# 문자열 확인\n",
    "strVar = \"test\"\n",
    "print(type(strVar))\n",
    "\n",
    "print('This is a literal string')\n",
    "print(\"This is another string\")\n",
    "\n",
    "print(\"I'm a Python fanatic\") #\"\" 속에 작은 따옴표를 사용할 경우\n",
    "print('I\"m a Python fanatic') #'' 속에 큰 따옴표를 사용할 경우\n",
    "\n",
    "# 문장을 두 줄 이상으로 표시할 경우\n",
    "print('A not very long string \\\n",
    "that spans two lines')"
   ]
  },
  {
   "cell_type": "markdown",
   "id": "c9ff106d",
   "metadata": {},
   "source": [
    "---\n",
    "### 3. 연산자\n",
    "> 프로그램에서 사용되는 연산자의 종류와 사용 방법을 알아본다\n",
    "\n",
    "### 지정 연산자(할당 연산자)\n",
    "> 변수의 값을 지정하기 위해 사용 ="
   ]
  },
  {
   "cell_type": "code",
   "execution_count": null,
   "id": "311cebaa",
   "metadata": {},
   "outputs": [],
   "source": [
    "# 지정 연산자 예제\n",
    "i = 3\n",
    "i = i + 2"
   ]
  },
  {
   "cell_type": "markdown",
   "id": "bfd9a6b2",
   "metadata": {},
   "source": [
    "#### 산술 연산자(arithmetic operator)\n",
    "\n",
    "> 사칙 연산자 : +, -, *, /  \n",
    "> 정수 나눗셈 : //  \n",
    "> 나머지 연산 : %  \n",
    "\n",
    "| 연산자 | 설명 | 사용 예 |\n",
    "|--------|------|---------|\n",
    "| `x + y` | `x`와 `y`를 더함 | `c = a + b` |\n",
    "| `x - y` | `x`에서 `y`를 뺌 | `s = a - b` |\n",
    "| `x * y` | `x`와 `y`를 곱함 | `m = a * b` |\n",
    "| `x / y` | `x`를 `y`로 나눔 | `d = a / b` |\n",
    "| `x // y` | `x`를 `y`로 나눔 (정수 나눗셈) | `d = a // b` |\n",
    "| `x % y` | `x`를 `y`로 나눈 나머지 | `r = a % b` |\n",
    "| `x ** y` | `x`의 `y` 제곱 | `r = 2 ** 5` |"
   ]
  },
  {
   "cell_type": "code",
   "execution_count": null,
   "id": "370a9ce8",
   "metadata": {},
   "outputs": [],
   "source": [
    "# ➕ 산술 연산자 예제\n",
    "a = 10\n",
    "b = 3\n",
    "\n",
    "# 나머지 연산 (%)\n",
    "c = a % b  # -> 1 (10을 3으로 나눈 나머지)\n",
    "\n",
    "# 정수 나눗셈 (//)\n",
    "d = a // b  # -> 3 (10을 3으로 나눈 몫)\n",
    "\n",
    "# 일반 나눗셈 (/)\n",
    "e = a / b  # -> 3.3333333333333335 (10을 3으로 나눈 결과)"
   ]
  },
  {
   "cell_type": "markdown",
   "id": "7ec4b645",
   "metadata": {},
   "source": [
    "#### 🔍 관계 연산자(relation operator)\n",
    "\n",
    "> 비교연산자  \n",
    "> 항의 대소관계 또는 동등관계 판정  \n",
    "> 연산결과는 True(참) 또는 False(거짓)  \n",
    "\n",
    "| 연산자 | 설명 | 사용 예 |\n",
    "|--------|------|---------|\n",
    "| `x < y` | `x`가 `y`보다 작으면 `True` | `x=1; y=2; print(x<y)` |\n",
    "| `x <= y` | `x`가 `y`보다 작거나 같으면 `True` | `x=1; y=2; print(x<=y)` |\n",
    "| `x > y` | `x`가 `y`보다 크면 `True` | `x=1; y=2; print(x>y)` |\n",
    "| `x >= y` | `x`가 `y`보다 크거나 같으면 `True` | `x=1; y=2; print(x>=y)` |\n",
    "| `x == y` | `x`와 `y`가 같으면 `True` | `x=1; y=2; print(x==y)` |\n",
    "| `x != y` | `x`와 `y`가 다르면 `True` | `x=1; y=2; print(x!=y)` |"
   ]
  },
  {
   "cell_type": "code",
   "execution_count": null,
   "id": "e6484d72",
   "metadata": {},
   "outputs": [],
   "source": [
    "# 🔍 관계 연산자 예제\n",
    "score = 95\n",
    "\n",
    "# 크거나 같음 (>=)\n",
    "print(score >= 90)  # True (95는 90보다 크거나 같음)\n",
    "\n",
    "# 작음 (<)\n",
    "print(score < 80)   # False (95는 80보다 작지 않음)\n",
    "\n",
    "# 같음 (==)\n",
    "print(score == 90)  # False (95는 90과 같지 않음)\n",
    "\n",
    "# 다름 (!=)\n",
    "print(score != 80)  # True (95는 80과 다름)"
   ]
  },
  {
   "cell_type": "markdown",
   "id": "8a73a622",
   "metadata": {},
   "source": [
    "#### 🧠 논리 연산자 (logical operator)\n",
    "\n",
    "> 논리곱(and), 논리합(or), 논리부정(not)  \n",
    "> 논리 연산의 대상은 True 또는 False. 결과도 True 또는 False  \n",
    "\n",
    "| 연산자 | 설명 | 사용 예 |\n",
    "|--------|------|---------|\n",
    "| `x and y` | `x`와 `y`가 모두 참일 때만 연산 결과가 참 | `a=5; print(a > 0 and a < 10)` |\n",
    "| `x or y` | `x`와 `y` 둘 중 하나라도 참이면 연산 결과가 참 | `a=5; print(a < -3 or a > 3)` |\n",
    "| `not x` | `x`의 부정. `x`가 참(거짓)이면 결과는 거짓(참). | `a=False; print(not a)` |"
   ]
  },
  {
   "cell_type": "code",
   "execution_count": null,
   "id": "b0e8fef7",
   "metadata": {},
   "outputs": [],
   "source": [
    "# 🧠 논리 연산자 예제\n",
    "exam = 85\n",
    "report = 85\n",
    "\n",
    "# 논리곱 (and) - 둘 다 참이어야 참\n",
    "print(exam >= 80 and report >= 80)  # True (둘 다 80 이상)\n",
    "\n",
    "# 논리합 (or) - 하나라도 참이면 참\n",
    "print(exam >= 90 or report >= 90)   # False (둘 다 90 미만)\n",
    "\n",
    "# 논리부정 (not) - 참이면 거짓, 거짓이면 참\n",
    "print(not(exam < 90))               # False (exam < 90은 False이므로 not False = True)"
   ]
  },
  {
   "cell_type": "markdown",
   "id": "34f04497",
   "metadata": {},
   "source": [
    "#### 🔍 멤버 연산자(membership operator)\n",
    "> 특정 문자열 또는 값이 문자열 또는 리스트(반복객체)에 속해 있는지 판별하는 연산자"
   ]
  },
  {
   "cell_type": "code",
   "execution_count": null,
   "id": "73242467",
   "metadata": {},
   "outputs": [],
   "source": [
    "# 🔍 멤버 연산자 예제\n",
    "\n",
    "# in 연산자 - 포함되어 있는지 확인\n",
    "print('py' in 'python')    # True ('py'가 'python'에 포함됨)\n",
    "\n",
    "# not in 연산자 - 포함되어 있지 않은지 확인\n",
    "print('ty' not in 'python') # True ('ty'가 'python'에 포함되지 않음)"
   ]
  },
  {
   "cell_type": "markdown",
   "id": "1e83adac",
   "metadata": {},
   "source": [
    "#### 🆔 식별 연산자(identity operator)\n",
    "> is : 양쪽 변수의 주소가 같은지 판단. if id(a) == id(b)  \n",
    "> is not : 양쪽 변수의 주소가 다른지 판단. if id(a) != id(b)  "
   ]
  },
  {
   "cell_type": "code",
   "execution_count": null,
   "id": "d493d1d7",
   "metadata": {},
   "outputs": [],
   "source": [
    "# 🆔 식별 연산자 예제\n",
    "a = 2\n",
    "b = 2\n",
    "\n",
    "# 변수의 메모리 주소 확인\n",
    "print(id(a))  # 변수 a의 메모리 주소\n",
    "print(id(b))  # 변수 b의 메모리 주소\n",
    "\n",
    "# 주소 비교 (직접 비교)\n",
    "print(id(a) == id(b))  # True (같은 주소)\n",
    "\n",
    "# is 연산자 사용\n",
    "print(a is b)          # True (같은 객체)\n",
    "\n",
    "# is not 연산자 사용\n",
    "print(a is not b)      # False (같은 객체이므로)"
   ]
  },
  {
   "cell_type": "markdown",
   "id": "e6414c7c",
   "metadata": {},
   "source": [
    "### ⚠️ 연산 오류\n",
    "#### 🚨 타입 에러(type error)\n",
    "> 연산할 수 없는 자료형을 연산하면 타입 에러 발생"
   ]
  },
  {
   "cell_type": "code",
   "execution_count": null,
   "id": "0d1ae2b9",
   "metadata": {},
   "outputs": [],
   "source": [
    "# 🚨 타입 에러 예제\n",
    "age = 23\n",
    "message = \"Happy \" + age + \"rd Birthday!\"  # ❌ 에러 발생!\n",
    "print(message)\n",
    "\n",
    "# Traceback (most recent call last):\n",
    "# File \"birthday.py\", line 2, in <module> ➊\n",
    "# message = \"Happy \" + age + \"rd Birthday!\"\n",
    "# TypeError: Can't convert 'int' object to str implicitly ➋\n",
    "\n",
    "## ➊ 에러 발생 위치\n",
    "## ➋ 에러 내용; int 형을 암시적으로 문자열로 변환할 수 없음"
   ]
  },
  {
   "cell_type": "markdown",
   "id": "63d0c249",
   "metadata": {},
   "source": [
    "---\n",
    "### 3. 튜플(tuple)\n",
    "> 리스트와 같이 여러 가지 자료를 모아서 하나로 표현할 수 있으나 요소를 수정, 삭제할 수 없는 자료구조"
   ]
  },
  {
   "cell_type": "code",
   "execution_count": null,
   "id": "d7f6149c",
   "metadata": {},
   "outputs": [],
   "source": [
    "# 튜플 만들기\n",
    "t1 = (1,2,3) # ( )속에 요소를 나열하여 만든다\n",
    "t1\n",
    "\n",
    "t2 = 1,2,3  # () 없이 요소를 나열해서 만들 수도 있다. 패킹\n",
    "t2\n",
    "\n",
    "t3 = 1,     # 요소가 한 개인 경우 ,를 붙인다\n",
    "t3\n",
    "\n",
    "t4 = tuple() #빈 튜플 생성"
   ]
  },
  {
   "cell_type": "code",
   "execution_count": null,
   "id": "b1771d5a",
   "metadata": {},
   "outputs": [],
   "source": [
    "# 튜플 요소 접근하기(인덱싱과 슬라이싱)\n",
    "t1 = (1,2,3)\n",
    "t1[1]\n",
    "\n",
    "t1[1:3]\n",
    "\n",
    "# 튜플 연산\n",
    "t1 = (1,2,3)\n",
    "t2 = ('a','b')\n",
    "t1 + t2     # 두 개의 튜플을 하나로 합치기\n",
    "\n",
    "t1*2        # 동일한 튜플을 하나 더 생성하여 합치기\n",
    "\n",
    "# 튜플과 리스트 상호 변환\n",
    "T1=(1,2,3)\n",
    "L1=list(T1)  # 튜플을 리스트로 변환\n",
    "L1.append(4)\n",
    "T1=tuple(L1)  # 리스트를 튜플로 변환\n",
    "T1\n",
    "\n",
    "#튜플 언패킹\n",
    "a, b, c = (1, 2, 3) # 튜플의 요소를 하나씩 변수에 할당. 언패킹\n",
    "a\n",
    "b\n",
    "c"
   ]
  },
  {
   "cell_type": "markdown",
   "id": "6a1e12f1",
   "metadata": {},
   "source": [
    "---\n",
    "### 4. 딕셔너리(dictionary)\n",
    "> 사전과 같이 대응 관계를 나타내는 자료구조  \n",
    "> 키(key):값(value)로 구성되는 자료 구조  \n",
    "  {key1: value1, key2: value2}  \n",
    "> 키는 정수, 실수, 문자열, 튜플  \n",
    "> 값은 임의의 데이터형  \n",
    "\n"
   ]
  },
  {
   "cell_type": "code",
   "execution_count": null,
   "id": "7ac76298",
   "metadata": {},
   "outputs": [],
   "source": [
    "# 딕셔너리 생성\n",
    "height = {'Jun':174, 'Kim':170, 'Lee':165} {key:value}\n",
    "height\n",
    "\n",
    "test = dict()  # 빈 딕셔너리 생성, a = {}\n",
    "test\n",
    "\n",
    "# 딕셔너리 key 값 조사하기\n",
    "height['Kim'] # Dict[key]로 값 조사하기\n",
    "\n",
    "# 딕셔너리 키 조사\n",
    "height = {'Jun':174, 'Kim':170, 'Lee':165}\n",
    "'Kim' in height # in 연산자로 key가 있는지 조사\n",
    "\n",
    "# 딕셔너리 요소 수정, 추가하기\n",
    "height['Lee'] = 180  # 요소 수정하기\n",
    "height\n",
    "\n",
    "height['Ihm']=168  # 요소 추가하기\n",
    "height\n",
    "\n",
    "# 딕셔너리의 키, 값, 요소를 뽑아내기\n",
    "height.keys()  # 키 뽑아내기\n",
    "# dict_keys(['Jun', 'Kim', 'Lee', 'Ihm']) # iterable(반복객체)이 반환됨\n",
    "height.values() # 값 뽑아내기\n",
    "\n",
    "height.items() # 요소를 튜플로 분리하기\n",
    "\n",
    "# ➊ 뽑아낸 키를 리스트로 변환하기\n",
    "dict_keys = height.keys()\n",
    "keys_list = list(dict_keys)\n",
    "keys_list\n",
    "\n",
    "# 딕셔너리 요소 제거하기\n",
    "height.pop('Ihm') # 'lhm' 요소 제거\n",
    "height\n",
    "\n",
    "# 딕셔너리 지우기\n",
    "height.clear()  # 요소를 지우기. 빈 딕셔너리로 만든다\n",
    "height\n",
    "\n",
    "\n"
   ]
  },
  {
   "cell_type": "markdown",
   "id": "c2c9b305",
   "metadata": {},
   "source": [
    "---\n",
    "### 5. 집합(set)\n",
    "> {} 속에 요소들을 중복되지 않고 순서없이 모아놓은 자료 구조  \n",
    "> 집합 자료형 : 집합에 관련된 것을 처리하기 위한 자료형"
   ]
  },
  {
   "cell_type": "code",
   "execution_count": null,
   "id": "769a4135",
   "metadata": {},
   "outputs": [],
   "source": [
    "# 집합의 생성\n",
    "numbers = {1,2,3}\n",
    "name = set(['Kim', 'Lee', 'Park'])\n",
    "\n",
    "# 빈 집합 생성, 개수 확인, 요소 추가, 요소 제거하기\n",
    "empty = set() #빈 집합 생성\n",
    "numbers = {1,2,3}\n",
    "len(numbers)\n",
    "\n",
    "numbers.add(4) #요소 추가\n",
    "numbers\n",
    "\n",
    "numbers.remove(4) #요소 제거\n",
    "numbers\n",
    "\n",
    "# 집합의 연산\n",
    "setA={1,2,3}\n",
    "setB={2,3,4}\n",
    "setA & setB # 교집합. setA.intersection(setB)\n",
    "setA | setB # 합집합 . setA.union(setB)\n",
    "setA - setB # 차집합. setA에서 setB 요소를 뺀 나머지.\n",
    "\n",
    "# 부분 집합 연산\n",
    "setA = {1, 2, 3}\n",
    "setB = {1, 2, 3}\n",
    "setA == setB # 두 개의 집합이 같은가?\n",
    "\n",
    "setA = {1, 2, 3, 4, 5, 6}\n",
    "setB = {1, 2, 3}\n",
    "setB < setA # 집합 B가 집합 A의 부분집합인가?\n",
    "\n",
    "setB.issubset(setA)  # 집합 B가 집합 A의 부분집합인가?"
   ]
  },
  {
   "cell_type": "code",
   "execution_count": 11,
   "id": "b84a8248",
   "metadata": {},
   "outputs": [
    {
     "name": "stdout",
     "output_type": "stream",
     "text": [
      "{32, 1, 35, 37, 14, 21}\n",
      "[1, 14, 21, 32, 35, 37]\n"
     ]
    }
   ],
   "source": [
    "# 집합 예제\n",
    "# 1부터 45까지의 수 중에서 6개를 선택하여 로또 번호를 만드는 프로그램\n",
    "import random\n",
    "pick = set() #빈 집합\n",
    "while len(pick) < 6:\n",
    " n = random.randint(1,45)  #랜덤 넘버 생성\n",
    " if n not in pick:\n",
    "    pick.add(n)  #집합에 요소 추가\n",
    "print(pick)\n",
    "print(sorted(pick))  #순서대로 나열된 집합 출력\n"
   ]
  },
  {
   "cell_type": "markdown",
   "id": "eaa31ae6",
   "metadata": {},
   "source": []
  },
  {
   "cell_type": "markdown",
   "id": "cff9bfcd",
   "metadata": {},
   "source": []
  },
  {
   "cell_type": "code",
   "execution_count": null,
   "id": "22ab583e",
   "metadata": {},
   "outputs": [],
   "source": []
  }
 ],
 "metadata": {
  "kernelspec": {
   "display_name": "Python 3",
   "language": "python",
   "name": "python3"
  },
  "language_info": {
   "codemirror_mode": {
    "name": "ipython",
    "version": 3
   },
   "file_extension": ".py",
   "mimetype": "text/x-python",
   "name": "python",
   "nbconvert_exporter": "python",
   "pygments_lexer": "ipython3",
   "version": "3.13.7"
  }
 },
 "nbformat": 4,
 "nbformat_minor": 5
}
