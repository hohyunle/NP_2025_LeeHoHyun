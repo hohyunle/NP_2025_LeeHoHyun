{
 "cells": [
  {
   "cell_type": "markdown",
   "id": "2e61554a",
   "metadata": {},
   "source": [
    "# 📚 NP 2-2 파이썬 자료구조\n",
    "## 01. 데이터형, 연산자, 표현식\n",
    "\n",
    "---"
   ]
  },
  {
   "cell_type": "markdown",
   "id": "ece561d2",
   "metadata": {},
   "source": [
    "### 🖨️ 1. 리스트\n",
    "> 리스트는 여러 가지 자료를 하나로 모아서 표현할 수 있는 자료구조\n",
    "\n",
    "#### 📤 리스트\n",
    "> 리스트는 여러 개의 데이터를 하나의 이름으로 저장하는 자료 구조   \n",
    "리스트 이름 = [항목1 , 항목2, ...]"
   ]
  },
  {
   "cell_type": "code",
   "execution_count": 3,
   "id": "0d5060a2",
   "metadata": {},
   "outputs": [
    {
     "name": "stdout",
     "output_type": "stream",
     "text": [
      "[1, 4, 9, 16, 25]\n",
      "[]\n"
     ]
    }
   ],
   "source": [
    "# 리스트 생성\n",
    "odd = [1, 3, 5, 7, 9]                   # [ ]를 이용하여 리스트 생성\n",
    "squares = [1, 4, 9, 16, 25]\n",
    "print(squares)\n",
    "\n",
    "empty = []                              # 공백 리스트. empy = list()\n",
    "print(empty)\n",
    "\n",
    "a = [1, 'hello', 2, 'world', 1.23]      # 리스트 요소는 어떤 것이라도 가능\n"
   ]
  },
  {
   "cell_type": "code",
   "execution_count": 8,
   "id": "b2b85cb5",
   "metadata": {},
   "outputs": [
    {
     "name": "stdout",
     "output_type": "stream",
     "text": [
      "1\n",
      "25\n",
      "[1, 4, 9]\n",
      "[9, 16, 25]\n",
      "[1, 4, 9, 16, 25, 36, 49, 64, 81, 100]\n",
      "[1, 2, 3, 4, 5, 6]\n"
     ]
    }
   ],
   "source": [
    "# 리스트의 인덱싱(요소 접근하기)과 슬라이싱(잘라내기)\n",
    "squares = [1, 4, 9, 16, 25]\n",
    "print(squares[0])   # 리스트 요소 추출하기(인덱싱은 0부터)\n",
    "print(squares[-1])  # 마지막 요소\n",
    "print(squares[0:3]) # 0부터(3-1)까지 잘라내기\n",
    "print(squares[-3:])  # 뒤에서 3번째부터 마지막까지 잘라내기\n",
    "\n",
    "# 리스트 합치기\n",
    "print(squares + [36, 49, 64, 81, 100]) # 리스트 합치기\n",
    "\n",
    "a = [1, 2, 3]\n",
    "b = [4, 5, 6]\n",
    "print(a + b)                           # 리스트 합치기"
   ]
  },
  {
   "cell_type": "code",
   "execution_count": 11,
   "id": "4c6133fc",
   "metadata": {},
   "outputs": [
    {
     "name": "stdout",
     "output_type": "stream",
     "text": [
      "64\n",
      "[1, 8, 27, 64, 125]\n",
      "[1, 8, 27, 64, 125, 216, 343]\n",
      "['a', 'b', 'c', 'd', 'e', 'f', 'g']\n",
      "['a', 'b', 'C', 'D', 'E', 'f', 'g']\n",
      "['a', 'b', 'f', 'g']\n",
      "[]\n"
     ]
    }
   ],
   "source": [
    "# 리스트의 요소 수정, 추가하기\n",
    "# ➊ 수정하기\n",
    "cubes = [1, 8, 27, 65, 125]      #세제곱수\n",
    "print(4 ** 3)                    # 4의 세제곱은 64!\n",
    "\n",
    "cubes[3] = 64                    # 리스트 요소 수정하기\n",
    "print(cubes)                     #수정된 리스트\n",
    "\n",
    "# ➋ 마지막에 요소 추가하기\n",
    "cubes.append(216)                # 마지막에 리스트 요소 추가하기\n",
    "cubes.append(7 ** 3)             # 마지막에 리스트 요소 추가하기\n",
    "print(cubes)\n",
    "\n",
    "# ➌ 요소 수정하기\n",
    "letters = ['a', 'b', 'c', 'd', 'e', 'f', 'g']\n",
    "print(letters)\n",
    "\n",
    "letters[2:5] = ['C', 'D', 'E']   # 리스트 요소 수정\n",
    "print(letters)\n",
    "\n",
    "letters[2:5] = []                # 리스트 요소 제거\n",
    "print(letters)\n",
    "\n",
    "letters[:] = []                  # 리스트 요소를 모두 제거\n",
    "print(letters)"
   ]
  },
  {
   "cell_type": "code",
   "execution_count": 12,
   "id": "6e44815e",
   "metadata": {},
   "outputs": [
    {
     "name": "stdout",
     "output_type": "stream",
     "text": [
      "[['a', 'b', 'c'], [1, 2, 3]]\n",
      "['a', 'b', 'c']\n",
      "b\n"
     ]
    }
   ],
   "source": [
    "# 중첩 리스트\n",
    "a = ['a', 'b', 'c']\n",
    "n = [1, 2, 3]\n",
    "x = [a, n]\n",
    "print(x)            # 리스트 요소가 리스트이다\n",
    "\n",
    "print(x[0])\n",
    "\n",
    "print(x[0][1])      # 중첩 리스트 요소 지정"
   ]
  },
  {
   "cell_type": "code",
   "execution_count": 14,
   "id": "1fe0e836",
   "metadata": {},
   "outputs": [
    {
     "name": "stdout",
     "output_type": "stream",
     "text": [
      "1\n",
      "9\n"
     ]
    }
   ],
   "source": [
    "# 2차원 리스트\n",
    "list2d = [[1,2,3],   # 배열을 나타낼 때 편리\n",
    "[4,5,6],\n",
    "[7,8,9]]\n",
    "\n",
    "print(list2d[0][0])  # 1\n",
    "print(list2d[2][2])  # 9"
   ]
  },
  {
   "cell_type": "code",
   "execution_count": 15,
   "id": "e76add06",
   "metadata": {},
   "outputs": [
    {
     "name": "stdout",
     "output_type": "stream",
     "text": [
      "4\n",
      "15\n",
      "1\n",
      "5\n",
      "5\n"
     ]
    }
   ],
   "source": [
    "# 내장 함수를 이용한 리스트 다루기\n",
    "# ➊ 리스트 길이 알아내기\n",
    "letters = ['a', 'b', 'c', 'd']\n",
    "print(len(letters))\n",
    "\n",
    "# ➋ 리스트 요소 합, 최소값, 최대값 구하기\n",
    "num = [1, 2, 3, 4, 5]\n",
    "print(sum(num))\n",
    "print(min(num))\n",
    "print(max(num))\n",
    "print(max(num))\n"
   ]
  },
  {
   "cell_type": "markdown",
   "id": "5428fa2f",
   "metadata": {},
   "source": [
    "#### 🎨 리스트 메소드(list.method)\n",
    "\n",
    "| 함수명      | 사용 방법             | 설명                                       |\n",
    "| :---------- | :-------------------- | :----------------------------------------- |\n",
    "| del()       | del(List[pos])        | List에서 pos 위치의 항목 삭제              |\n",
    "| len()       | len(List)             | List 항목의 전체 개수를 센다               |\n",
    "| sorted()    | newList = sorted(List) | List 항목을 정렬해 newList 만듬            |\n",
    "| append()    | List.append(val)      | List 맨 뒤에 val 항목 추가                 |\n",
    "| clear()     | List.clear()          | List의 내용을 지움                         |\n",
    "| copy()      | newList = List.copy() | List의 내용을 newList에 복사               |\n",
    "| count()     | List.count(val)       | List에서 val 값의 갯수를 센다              |\n",
    "| extend()    | List.extend(newList)  | List 뒤에 newList를 추가                   |\n",
    "| index()     | List.index(val)       | val을 찾아 해당 첨자 반환                  |\n",
    "| insert()    | List.insert(pos, val) | List의 pos 위치에 val 삽입                 |\n",
    "| pop()       | List.pop()            | List 맨 뒤에서 항목 삭제                   |\n",
    "| remove()    | List.remove(val)      | List에서 val 값 항목 삭제(여러 개면 첫번째만) |\n",
    "| reverse()   | List.reverse()        | List 항목을 뒤집어 역순으로 만듬           |\n",
    "| sort()      | List.sort()           | List 항목을 정렬                           |\n",
    "\n"
   ]
  },
  {
   "cell_type": "code",
   "execution_count": 2,
   "id": "6c6d4bde",
   "metadata": {},
   "outputs": [
    {
     "name": "stdout",
     "output_type": "stream",
     "text": [
      "30\n",
      "1020\n",
      "n=10\n",
      "m=5.2, n=10\n"
     ]
    }
   ],
   "source": [
    "# 🔤 숫자 vs 문자열 연산\n",
    "\n",
    "# 숫자 연산\n",
    "print(10 + 20)                    # 숫자 덧셈: 30\n",
    "\n",
    "# 문자열 연산  \n",
    "print(\"10\" + \"20\")                # 문자열 연결: \"1020\"\n",
    "\n",
    "# 🎨 서식 지정 출력\n",
    "n = 10\n",
    "m = 5.2\n",
    "print(\"n=%d\" % n)                 # 정수 출력\n",
    "print(\"m=%.1f, n=%d\" % (m, n))    # 소수점 1자리, 정수 출력"
   ]
  },
  {
   "cell_type": "markdown",
   "id": "2ab0d327",
   "metadata": {},
   "source": [
    "#### 📥 input() 함수\n",
    "> 키보드를 이용하여 숫자나 문자열 등의 데이터를 입력 받을 때 사용  \n",
    "> 입력된 정보는 문자열"
   ]
  },
  {
   "cell_type": "code",
   "execution_count": 1,
   "id": "041e1110",
   "metadata": {},
   "outputs": [
    {
     "name": "stdout",
     "output_type": "stream",
     "text": [
      "3\n",
      "정수: 3\n",
      "실수: 3.0\n",
      "문자열: 3\n"
     ]
    }
   ],
   "source": [
    "# 📥 input() 함수 사용법\n",
    "\n",
    "# 1. 사용자 입력 받기\n",
    "n = input('type a number : ')\n",
    "\n",
    "# 2. 입력된 데이터 확인\n",
    "print(n)\n",
    "\n",
    "# 3. 타입 변환\n",
    "print(f\"정수: {int(n)}\")\n",
    "print(f\"실수: {float(n)}\")\n",
    "print(f\"문자열: {str(n)}\")"
   ]
  },
  {
   "cell_type": "markdown",
   "id": "4f8c817b",
   "metadata": {},
   "source": [
    "#### 🔍 입출력 함수의 사용 예"
   ]
  },
  {
   "cell_type": "code",
   "execution_count": 2,
   "id": "03da3c18",
   "metadata": {},
   "outputs": [
    {
     "name": "stdout",
     "output_type": "stream",
     "text": [
      "Hello, hohyun\n",
      "10\n",
      "화씨온도는 93.2\n"
     ]
    }
   ],
   "source": [
    "#  문자열을 입력 받아 다른 문자열과 결합하여 출력\n",
    "name = input('Name :')\n",
    "print(\"Hello, \" + name )\n",
    "\n",
    "# 두 정수를 입력 받아 곱셈 결과 출력\n",
    "a = int(input('Number 1: ')) # 문자열을 입력한 후 정수로 변환\n",
    "b = int(input('Number 2: '))\n",
    "print(a * b)\n",
    "\n",
    "# 섭씨온도(C)를 입력 받아 화씨온도(F)로 바꾸어 출력\n",
    "C = float(input(\"Type 섭씨온도 : \")) # 입력 문자열을 실수로 변환\n",
    "F = C * 9 / 5 + 32 #온도 변환\n",
    "print(\"화씨온도는\", F)\n"
   ]
  },
  {
   "cell_type": "markdown",
   "id": "8a44e5fb",
   "metadata": {},
   "source": [
    "---\n",
    "### 📊 2. 기본 자료형\n",
    "> 파이썬에서 자료를 표현하기 위해 사용되는 기본 자료형을 알아본다.\n",
    "\n",
    "#### 🔘 부울형(Boolean)\n",
    "> 참(True) 또는 거짓(False) 중 하나의 값을 갖는 자료형(True, False)  \n",
    "> 비교 결과를 저장할 때 사용"
   ]
  },
  {
   "cell_type": "code",
   "execution_count": null,
   "id": "3890a850",
   "metadata": {},
   "outputs": [
    {
     "name": "stdout",
     "output_type": "stream",
     "text": [
      "<class 'bool'>\n",
      "False\n",
      "True\n"
     ]
    }
   ],
   "source": [
    "# 🔘 부울형 확인\n",
    "\n",
    "# 1. 부울형 출력\n",
    "aVar = True\n",
    "bVar = False\n",
    "print(type(aVar))\n",
    "\n",
    "# 비교 결과 출력\n",
    "a = 1\n",
    "b = 2\n",
    "c = a > b\n",
    "print(c)\n",
    "\n",
    "d = a < b\n",
    "print(d)"
   ]
  },
  {
   "cell_type": "markdown",
   "id": "3a8ebf66",
   "metadata": {},
   "source": [
    "#### 🔢 정수(integer) 형"
   ]
  },
  {
   "cell_type": "code",
   "execution_count": 6,
   "id": "e5b6bbe6",
   "metadata": {},
   "outputs": [
    {
     "name": "stdout",
     "output_type": "stream",
     "text": [
      "<class 'int'>\n"
     ]
    },
    {
     "data": {
      "text/plain": [
       "(1, 23, 3493)"
      ]
     },
     "execution_count": 6,
     "metadata": {},
     "output_type": "execute_result"
    }
   ],
   "source": [
    "# 🔢 정수형 확인\n",
    "\n",
    "# 소수점 없는 숫자 표현\n",
    "intVar = 5\n",
    "print(type(intVar))\n",
    "\n",
    "# 여러 가지 정수 표현\n",
    "1, 23, 3493 # 10진수\n",
    "0b010101, 0b110010 # 2진수\n",
    "0o1, 0o27, 0o6645  # 8진수\n",
    "0x1, 0x17, 0xDA5   # 16진수"
   ]
  },
  {
   "cell_type": "markdown",
   "id": "514d41ca",
   "metadata": {},
   "source": [
    "#### 🔢 실수(float)형"
   ]
  },
  {
   "cell_type": "code",
   "execution_count": null,
   "id": "93cf344c",
   "metadata": {},
   "outputs": [
    {
     "name": "stdout",
     "output_type": "stream",
     "text": [
      "<class 'float'>\n"
     ]
    },
    {
     "data": {
      "text/plain": [
       "0.001027"
      ]
     },
     "execution_count": 7,
     "metadata": {},
     "output_type": "execute_result"
    }
   ],
   "source": [
    "# 🔢 실수형 확인\n",
    "fVar = 1.0\n",
    "print(type(fVar))\n",
    "\n",
    "# 여러 가지 실수 표현\n",
    "0., 0.0, .0, 1., 1.0, 1e0, 1.e0, 1.0e2\n",
    "\n",
    "# 쉽게 식별할 수 있도록 _를 사용한 숫자의 표현(파이썬 3.6 부터 적용)\n",
    "100_000.000_0001, 0x_FF_FF, 0o7_777, 0b_1010_1010\n",
    "\n",
    "0.00_10_27"
   ]
  },
  {
   "cell_type": "markdown",
   "id": "deef04c6",
   "metadata": {},
   "source": [
    "#### 📝 문자열(string)\n",
    "> 나열된 문자들  \n",
    "> ' ' 또는 \" \"로 둘러 쌈"
   ]
  },
  {
   "cell_type": "code",
   "execution_count": null,
   "id": "e4623566",
   "metadata": {},
   "outputs": [
    {
     "name": "stdout",
     "output_type": "stream",
     "text": [
      "<class 'str'>\n",
      "This is a literal string\n",
      "This is another string\n",
      "I'm a Python fanatic\n",
      "I\"m a Python fanatic\n",
      "A not very long string that spans two lines\n"
     ]
    }
   ],
   "source": [
    "# 📝 문자열 확인\n",
    "strVar = \"test\"\n",
    "print(type(strVar))\n",
    "\n",
    "print('This is a literal string')\n",
    "print(\"This is another string\")\n",
    "\n",
    "print(\"I'm a Python fanatic\") #\"\" 속에 작은 따옴표를 사용할 경우\n",
    "print('I\"m a Python fanatic') #'' 속에 큰 따옴표를 사용할 경우\n",
    "\n",
    "# 문장을 두 줄 이상으로 표시할 경우\n",
    "print('A not very long string \\\n",
    "that spans two lines')"
   ]
  },
  {
   "cell_type": "markdown",
   "id": "45743dde",
   "metadata": {},
   "source": [
    "---\n",
    "### ⚙️ 3. 연산자\n",
    "> 프로그램에서 사용되는 연산자의 종류와 사용 방법을 알아본다\n",
    "\n",
    "#### ⚡ 지정 연산자(할당 연산자)\n",
    "> 변수의 값을 지정하기 위해 사용 **=**"
   ]
  },
  {
   "cell_type": "code",
   "execution_count": null,
   "id": "52871356",
   "metadata": {},
   "outputs": [],
   "source": [
    "# ⚡ 지정 연산자 예제\n",
    "i = 3\n",
    "i = i + 2"
   ]
  },
  {
   "cell_type": "markdown",
   "id": "6efe3e8c",
   "metadata": {},
   "source": [
    "#### ➕ 산술 연산자(arithmetic operator)\n",
    "> 사칙 연산자 : +, -, *, /  \n",
    "> 정수 나눗셈 : //  \n",
    "> 나머지 연산 : %\n",
    "\n",
    "| 연산자 | 설명 | 사용 예 |\n",
    "|--------|------|---------|\n",
    "| `x + y` | `x`와 `y`를 더함 | `c = a + b` |\n",
    "| `x - y` | `x`에서 `y`를 뺌 | `s = a - b` |\n",
    "| `x * y` | `x`와 `y`를 곱함 | `m = a * b` |\n",
    "| `x / y` | `x`를 `y`로 나눔 | `d = a / b` |\n",
    "| `x // y` | `x`를 `y`로 나눔 (정수 나눗셈) | `d = a // b` |\n",
    "| `x % y` | `x`를 `y`로 나눈 나머지 | `r = a % b` |\n",
    "| `x ** y` | `x`의 `y` 제곱 | `r = 2 ** 5` |"
   ]
  },
  {
   "cell_type": "code",
   "execution_count": null,
   "id": "3a78da57",
   "metadata": {},
   "outputs": [],
   "source": [
    "# ➕ 산술 연산자 예제\n",
    "a = 10\n",
    "b = 3\n",
    "\n",
    "# 나머지 연산 (%)\n",
    "c = a % b  # -> 1 (10을 3으로 나눈 나머지)\n",
    "\n",
    "# 정수 나눗셈 (//)\n",
    "d = a // b  # -> 3 (10을 3으로 나눈 몫)\n",
    "\n",
    "# 일반 나눗셈 (/)\n",
    "e = a / b  # -> 3.3333333333333335 (10을 3으로 나눈 결과)"
   ]
  },
  {
   "cell_type": "markdown",
   "id": "4456f9fb",
   "metadata": {},
   "source": [
    "#### 🔍 관계 연산자(relation operator)\n",
    "> 비교연산자  \n",
    "> 항의 대소관계 또는 동등관계 판정  \n",
    "> 연산결과는 True(참) 또는 False(거짓) \n",
    "\n",
    "| 연산자 | 설명 | 사용 예 |\n",
    "|--------|------|---------|\n",
    "| `x < y` | `x`가 `y`보다 작으면 `True` | `x=1; y=2; print(x<y)` |\n",
    "| `x <= y` | `x`가 `y`보다 작거나 같으면 `True` | `x=1; y=2; print(x<=y)` |\n",
    "| `x > y` | `x`가 `y`보다 크면 `True` | `x=1; y=2; print(x>y)` |\n",
    "| `x >= y` | `x`가 `y`보다 크거나 같으면 `True` | `x=1; y=2; print(x>=y)` |\n",
    "| `x == y` | `x`와 `y`가 같으면 `True` | `x=1; y=2; print(x==y)` |\n",
    "| `x != y` | `x`와 `y`가 다르면 `True` | `x=1; y=2; print(x!=y)` |"
   ]
  },
  {
   "cell_type": "code",
   "execution_count": null,
   "id": "41ca29d7",
   "metadata": {},
   "outputs": [
    {
     "name": "stdout",
     "output_type": "stream",
     "text": [
      "True\n",
      "False\n",
      "False\n",
      "True\n"
     ]
    }
   ],
   "source": [
    "# 🔍 관계 연산자 예제\n",
    "score = 95\n",
    "\n",
    "# 크거나 같음 (>=)\n",
    "print(score >= 90)  # True (95는 90보다 크거나 같음)\n",
    "\n",
    "# 작음 (<)\n",
    "print(score < 80)   # False (95는 80보다 작지 않음)\n",
    "\n",
    "# 같음 (==)\n",
    "print(score == 90)  # False (95는 90과 같지 않음)\n",
    "\n",
    "# 다름 (!=)\n",
    "print(score != 80)  # True (95는 80과 다름)"
   ]
  },
  {
   "cell_type": "markdown",
   "id": "2466ef58",
   "metadata": {},
   "source": [
    "#### 🧠 논리 연산자 (logical operator)\n",
    "> 논리곱(and), 논리합(or), 논리부정(not)  \n",
    "> 논리 연산의 대상은 True 또는 False. 결과도 True 또는 False\n",
    "\n",
    "| 연산자 | 설명 | 사용 예 |\n",
    "|--------|------|---------|\n",
    "| `x and y` | `x`와 `y`가 모두 참일 때만 연산 결과가 참 | `a=5; print(a > 0 and a < 10)` |\n",
    "| `x or y` | `x`와 `y` 둘 중 하나라도 참이면 연산 결과가 참 | `a=5; print(a < -3 or a > 3)` |\n",
    "| `not x` | `x`의 부정. `x`가 참(거짓)이면 결과는 거짓(참). | `a=False; print(not a)` |"
   ]
  },
  {
   "cell_type": "code",
   "execution_count": null,
   "id": "a764fb87",
   "metadata": {},
   "outputs": [
    {
     "name": "stdout",
     "output_type": "stream",
     "text": [
      "True\n",
      "False\n",
      "False\n"
     ]
    }
   ],
   "source": [
    "# 🧠 논리 연산자 예제\n",
    "exam = 85\n",
    "report = 85\n",
    "\n",
    "# 논리곱 (and) - 둘 다 참이어야 참\n",
    "print(exam >= 80 and report >= 80)  # True (둘 다 80 이상)\n",
    "\n",
    "# 논리합 (or) - 하나라도 참이면 참\n",
    "print(exam >= 90 or report >= 90)   # False (둘 다 90 미만)\n",
    "\n",
    "# 논리부정 (not) - 참이면 거짓, 거짓이면 참\n",
    "print(not(exam < 90))               # False (exam < 90은 False이므로 not False = True)\n"
   ]
  },
  {
   "cell_type": "markdown",
   "id": "f1a71e5b",
   "metadata": {},
   "source": [
    "#### 🔍 멤버 연산자(membership operator)\n",
    "> 특정 문자열 또는 값이 문자열 또는 리스트(반복객체)에 속해 있는지 판별하는 연산자"
   ]
  },
  {
   "cell_type": "code",
   "execution_count": null,
   "id": "65f3c72c",
   "metadata": {},
   "outputs": [
    {
     "name": "stdout",
     "output_type": "stream",
     "text": [
      "True\n",
      "True\n"
     ]
    }
   ],
   "source": [
    "# 🔍 멤버 연산자 예제\n",
    "\n",
    "# in 연산자 - 포함되어 있는지 확인\n",
    "print('py' in 'python')    # True ('py'가 'python'에 포함됨)\n",
    "\n",
    "# not in 연산자 - 포함되어 있지 않은지 확인\n",
    "print('ty' not in 'python') # True ('ty'가 'python'에 포함되지 않음)"
   ]
  },
  {
   "cell_type": "markdown",
   "id": "056b4181",
   "metadata": {},
   "source": [
    "#### 🆔 식별 연산자(identity operator)\n",
    "> is : 양쪽 변수의 주소가 같은지 판단. if id(a) == id(b)  \n",
    "> is not : 양쪽 변수의 주소가 다른지 판단. if id(a) != id(b)"
   ]
  },
  {
   "cell_type": "code",
   "execution_count": null,
   "id": "d69d4279",
   "metadata": {},
   "outputs": [
    {
     "name": "stdout",
     "output_type": "stream",
     "text": [
      "140733950751688\n",
      "140733950751688\n",
      "True\n",
      "True\n",
      "False\n"
     ]
    }
   ],
   "source": [
    "# 🆔 식별 연산자 예제\n",
    "a = 2\n",
    "b = 2\n",
    "\n",
    "# 변수의 메모리 주소 확인\n",
    "print(id(a))  # 변수 a의 메모리 주소\n",
    "print(id(b))  # 변수 b의 메모리 주소\n",
    "\n",
    "# 주소 비교 (직접 비교)\n",
    "print(id(a) == id(b))  # True (같은 주소)\n",
    "\n",
    "# is 연산자 사용\n",
    "print(a is b)          # True (같은 객체)\n",
    "\n",
    "# is not 연산자 사용\n",
    "print(a is not b)      # False (같은 객체이므로)"
   ]
  },
  {
   "cell_type": "markdown",
   "id": "997c285e",
   "metadata": {},
   "source": []
  },
  {
   "cell_type": "markdown",
   "id": "80d64e9b",
   "metadata": {},
   "source": [
    "### ⚠️ 연산 오류\n",
    "#### 🚨 타입 에러(type error)\n",
    "> 연산할 수 없는 자료형을 연산하면 타입 에러 발생\n"
   ]
  },
  {
   "cell_type": "code",
   "execution_count": null,
   "id": "ec5f1bc4",
   "metadata": {},
   "outputs": [
    {
     "ename": "TypeError",
     "evalue": "can only concatenate str (not \"int\") to str",
     "output_type": "error",
     "traceback": [
      "\u001b[31m---------------------------------------------------------------------------\u001b[39m",
      "\u001b[31mTypeError\u001b[39m                                 Traceback (most recent call last)",
      "\u001b[36mCell\u001b[39m\u001b[36m \u001b[39m\u001b[32mIn[16]\u001b[39m\u001b[32m, line 2\u001b[39m\n\u001b[32m      1\u001b[39m age = \u001b[32m23\u001b[39m\n\u001b[32m----> \u001b[39m\u001b[32m2\u001b[39m message = \u001b[33;43m\"\u001b[39;49m\u001b[33;43mHappy \u001b[39;49m\u001b[33;43m\"\u001b[39;49m\u001b[43m \u001b[49m\u001b[43m+\u001b[49m\u001b[43m \u001b[49m\u001b[43mage\u001b[49m + \u001b[33m\"\u001b[39m\u001b[33mrd Birthday!\u001b[39m\u001b[33m\"\u001b[39m\n\u001b[32m      3\u001b[39m \u001b[38;5;28mprint\u001b[39m(message)\n\u001b[32m      5\u001b[39m \u001b[38;5;66;03m# Traceback (most recent call last):\u001b[39;00m\n\u001b[32m      6\u001b[39m \u001b[38;5;66;03m# File \"birthday.py\", line 2, in <module> ➊\u001b[39;00m\n\u001b[32m      7\u001b[39m \u001b[38;5;66;03m# message = \"Happy \" + age + \"rd Birthday!\"\u001b[39;00m\n\u001b[32m      8\u001b[39m \u001b[38;5;66;03m# TypeError: Can't convert 'int' object to str implicitly ➋\u001b[39;00m\n\u001b[32m      9\u001b[39m \u001b[38;5;66;03m# ➊ 에러 발생 위치\u001b[39;00m\n\u001b[32m     10\u001b[39m \u001b[38;5;66;03m# ➋ 에러 내용; int 형을 암시적으로 문자열로 변환할 수 없음\u001b[39;00m\n",
      "\u001b[31mTypeError\u001b[39m: can only concatenate str (not \"int\") to str"
     ]
    }
   ],
   "source": [
    "# 🚨 타입 에러 예제\n",
    "age = 23\n",
    "message = \"Happy \" + age + \"rd Birthday!\"  # ❌ 에러 발생!\n",
    "print(message)\n",
    "\n",
    "# Traceback (most recent call last):\n",
    "# File \"birthday.py\", line 2, in <module> ➊\n",
    "# message = \"Happy \" + age + \"rd Birthday!\"\n",
    "# TypeError: Can't convert 'int' object to str implicitly ➋\n",
    "\n",
    "## ➊ 에러 발생 위치\n",
    "## ➋ 에러 내용; int 형을 암시적으로 문자열로 변환할 수 없음"
   ]
  }
 ],
 "metadata": {
  "kernelspec": {
   "display_name": "Python 3",
   "language": "python",
   "name": "python3"
  },
  "language_info": {
   "codemirror_mode": {
    "name": "ipython",
    "version": 3
   },
   "file_extension": ".py",
   "mimetype": "text/x-python",
   "name": "python",
   "nbconvert_exporter": "python",
   "pygments_lexer": "ipython3",
   "version": "3.13.7"
  }
 },
 "nbformat": 4,
 "nbformat_minor": 5
}
